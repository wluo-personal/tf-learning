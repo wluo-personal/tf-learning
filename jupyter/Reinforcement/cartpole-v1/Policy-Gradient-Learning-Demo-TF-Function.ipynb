{
 "cells": [
  {
   "cell_type": "markdown",
   "id": "1655d2b7",
   "metadata": {},
   "source": [
    "This notebook focus on Actor-Critc and A2C"
   ]
  },
  {
   "cell_type": "code",
   "execution_count": 1,
   "id": "20cf64ee",
   "metadata": {
    "ExecuteTime": {
     "end_time": "2023-03-23T02:55:55.002302Z",
     "start_time": "2023-03-23T02:55:53.978044Z"
    }
   },
   "outputs": [
    {
     "name": "stderr",
     "output_type": "stream",
     "text": [
      "2023-03-23 02:55:54.085743: I tensorflow/core/platform/cpu_feature_guard.cc:193] This TensorFlow binary is optimized with oneAPI Deep Neural Network Library (oneDNN) to use the following CPU instructions in performance-critical operations:  AVX2 FMA\n",
      "To enable them in other operations, rebuild TensorFlow with the appropriate compiler flags.\n",
      "2023-03-23 02:55:54.169017: W tensorflow/compiler/xla/stream_executor/platform/default/dso_loader.cc:64] Could not load dynamic library 'libcudart.so.11.0'; dlerror: libcudart.so.11.0: cannot open shared object file: No such file or directory\n",
      "2023-03-23 02:55:54.169049: I tensorflow/compiler/xla/stream_executor/cuda/cudart_stub.cc:29] Ignore above cudart dlerror if you do not have a GPU set up on your machine.\n",
      "2023-03-23 02:55:54.551394: W tensorflow/compiler/xla/stream_executor/platform/default/dso_loader.cc:64] Could not load dynamic library 'libnvinfer.so.7'; dlerror: libnvinfer.so.7: cannot open shared object file: No such file or directory\n",
      "2023-03-23 02:55:54.551446: W tensorflow/compiler/xla/stream_executor/platform/default/dso_loader.cc:64] Could not load dynamic library 'libnvinfer_plugin.so.7'; dlerror: libnvinfer_plugin.so.7: cannot open shared object file: No such file or directory\n",
      "2023-03-23 02:55:54.551450: W tensorflow/compiler/tf2tensorrt/utils/py_utils.cc:38] TF-TRT Warning: Cannot dlopen some TensorRT libraries. If you would like to use Nvidia GPU with TensorRT, please make sure the missing libraries mentioned above are installed properly.\n"
     ]
    }
   ],
   "source": [
    "import os\n",
    "# disable tensorflow logging\n",
    "# os.environ['TF_CPP_MIN_LOG_LEVEL'] = '2'\n",
    "\n",
    "import statistics\n",
    "import numpy as np\n",
    "import tensorflow as tf\n",
    "import gym\n",
    "import tqdm\n",
    "import collections\n"
   ]
  },
  {
   "cell_type": "code",
   "execution_count": 2,
   "id": "cec5b7db",
   "metadata": {
    "ExecuteTime": {
     "end_time": "2023-03-23T02:55:55.007841Z",
     "start_time": "2023-03-23T02:55:55.004132Z"
    }
   },
   "outputs": [],
   "source": [
    "class Env():\n",
    "    def __init__(self, max_step=1000):\n",
    "        self.env = gym.make(\"CartPole-v1\")\n",
    "        self.max_step = max_step\n",
    "        self.cur_step = 1\n",
    "        self.action_space = self.env.action_space\n",
    "        \n",
    "    def reset(self):\n",
    "        self.cur_step = 1\n",
    "        initial_state, info = self.env.reset()\n",
    "        initial_state = self.add_step_into_state(initial_state)\n",
    "        return initial_state, info\n",
    "    \n",
    "    def add_step_into_state(self, state):\n",
    "#         state = np.concatenate([state, np.array([self.cur_step/self.max_step])])\n",
    "        \n",
    "        return state\n",
    "    \n",
    "    def step(self, action):\n",
    "        self.cur_step += 1\n",
    "        state, reward, done, _, _ = self.env.step(action)\n",
    "        if self.cur_step > self.max_step:\n",
    "            reward = 1.0\n",
    "            done = True\n",
    "            self.cur_step = self.max_step + 1\n",
    "        else:\n",
    "            if done:\n",
    "                reward = 1.0\n",
    "        state = self.add_step_into_state(state)\n",
    "        return state, reward, done, _, _"
   ]
  },
  {
   "cell_type": "code",
   "execution_count": 3,
   "id": "293f6b3e",
   "metadata": {
    "ExecuteTime": {
     "end_time": "2023-03-23T02:55:55.062183Z",
     "start_time": "2023-03-23T02:55:55.008986Z"
    }
   },
   "outputs": [],
   "source": [
    "env = gym.make(\"CartPole-v1\")\n",
    "# env = Env()\n",
    "initial_state, _ = env.reset()\n",
    "initial_state_shape = initial_state.shape\n",
    "action_space = env.action_space.n\n",
    "eps = np.finfo(np.float32).eps.item()\n",
    "gamma = 0.99\n",
    "lr = 0.01\n",
    "step_length = 50\n"
   ]
  },
  {
   "cell_type": "markdown",
   "id": "2b1a500b",
   "metadata": {
    "ExecuteTime": {
     "end_time": "2023-03-15T15:45:52.459819Z",
     "start_time": "2023-03-15T15:45:52.453876Z"
    }
   },
   "source": [
    "# define model"
   ]
  },
  {
   "cell_type": "code",
   "execution_count": 4,
   "id": "e1719071",
   "metadata": {
    "ExecuteTime": {
     "end_time": "2023-03-23T02:55:55.170035Z",
     "start_time": "2023-03-23T02:55:55.063288Z"
    }
   },
   "outputs": [
    {
     "name": "stdout",
     "output_type": "stream",
     "text": [
      "Model: \"model\"\n",
      "__________________________________________________________________________________________________\n",
      " Layer (type)                   Output Shape         Param #     Connected to                     \n",
      "==================================================================================================\n",
      " input_1 (InputLayer)           [(None, 4)]          0           []                               \n",
      "                                                                                                  \n",
      " dense (Dense)                  (None, 128)          640         ['input_1[0][0]']                \n",
      "                                                                                                  \n",
      " dense_1 (Dense)                (None, 2)            258         ['dense[0][0]']                  \n",
      "                                                                                                  \n",
      " dense_2 (Dense)                (None, 1)            129         ['dense[0][0]']                  \n",
      "                                                                                                  \n",
      "==================================================================================================\n",
      "Total params: 1,027\n",
      "Trainable params: 1,027\n",
      "Non-trainable params: 0\n",
      "__________________________________________________________________________________________________\n"
     ]
    },
    {
     "name": "stderr",
     "output_type": "stream",
     "text": [
      "2023-03-23 02:55:55.125522: I tensorflow/compiler/xla/stream_executor/cuda/cuda_gpu_executor.cc:981] successful NUMA node read from SysFS had negative value (-1), but there must be at least one NUMA node, so returning NUMA node zero\n",
      "2023-03-23 02:55:55.125718: W tensorflow/compiler/xla/stream_executor/platform/default/dso_loader.cc:64] Could not load dynamic library 'libcudart.so.11.0'; dlerror: libcudart.so.11.0: cannot open shared object file: No such file or directory\n",
      "2023-03-23 02:55:55.125755: W tensorflow/compiler/xla/stream_executor/platform/default/dso_loader.cc:64] Could not load dynamic library 'libcublas.so.11'; dlerror: libcublas.so.11: cannot open shared object file: No such file or directory\n",
      "2023-03-23 02:55:55.125782: W tensorflow/compiler/xla/stream_executor/platform/default/dso_loader.cc:64] Could not load dynamic library 'libcublasLt.so.11'; dlerror: libcublasLt.so.11: cannot open shared object file: No such file or directory\n",
      "2023-03-23 02:55:55.125808: W tensorflow/compiler/xla/stream_executor/platform/default/dso_loader.cc:64] Could not load dynamic library 'libcufft.so.10'; dlerror: libcufft.so.10: cannot open shared object file: No such file or directory\n",
      "2023-03-23 02:55:55.125833: W tensorflow/compiler/xla/stream_executor/platform/default/dso_loader.cc:64] Could not load dynamic library 'libcurand.so.10'; dlerror: libcurand.so.10: cannot open shared object file: No such file or directory\n",
      "2023-03-23 02:55:55.125859: W tensorflow/compiler/xla/stream_executor/platform/default/dso_loader.cc:64] Could not load dynamic library 'libcusolver.so.11'; dlerror: libcusolver.so.11: cannot open shared object file: No such file or directory\n",
      "2023-03-23 02:55:55.125883: W tensorflow/compiler/xla/stream_executor/platform/default/dso_loader.cc:64] Could not load dynamic library 'libcusparse.so.11'; dlerror: libcusparse.so.11: cannot open shared object file: No such file or directory\n",
      "2023-03-23 02:55:55.125908: W tensorflow/compiler/xla/stream_executor/platform/default/dso_loader.cc:64] Could not load dynamic library 'libcudnn.so.8'; dlerror: libcudnn.so.8: cannot open shared object file: No such file or directory\n",
      "2023-03-23 02:55:55.125914: W tensorflow/core/common_runtime/gpu/gpu_device.cc:1934] Cannot dlopen some GPU libraries. Please make sure the missing libraries mentioned above are installed properly if you would like to use GPU. Follow the guide at https://www.tensorflow.org/install/gpu for how to download and setup the required libraries for your platform.\n",
      "Skipping registering GPU devices...\n",
      "2023-03-23 02:55:55.126205: I tensorflow/core/platform/cpu_feature_guard.cc:193] This TensorFlow binary is optimized with oneAPI Deep Neural Network Library (oneDNN) to use the following CPU instructions in performance-critical operations:  AVX2 FMA\n",
      "To enable them in other operations, rebuild TensorFlow with the appropriate compiler flags.\n"
     ]
    }
   ],
   "source": [
    "\"\"\"\n",
    "The model will use basic Actor-Critc (A2C with baseline)\n",
    "\"\"\"\n",
    "\n",
    "def get_model():\n",
    "    inputs = tf.keras.layers.Input(shape=initial_state_shape)\n",
    "    hidden = tf.keras.layers.Dense(128, activation=\"relu\")(inputs)\n",
    "    actions = tf.keras.layers.Dense(action_space, activation=tf.keras.activations.softmax)(hidden)\n",
    "    value = tf.keras.layers.Dense(1, activation=None)(hidden)\n",
    "    outs = [actions, value]\n",
    "    return tf.keras.Model(inputs, outs)\n",
    "\n",
    "model = get_model()\n",
    "model.summary()"
   ]
  },
  {
   "cell_type": "markdown",
   "id": "045086a7",
   "metadata": {
    "ExecuteTime": {
     "end_time": "2023-03-15T15:51:42.446877Z",
     "start_time": "2023-03-15T15:51:42.443577Z"
    }
   },
   "source": [
    "# define data collection"
   ]
  },
  {
   "cell_type": "code",
   "execution_count": 5,
   "id": "518cbe4a",
   "metadata": {
    "ExecuteTime": {
     "end_time": "2023-03-23T02:55:55.177028Z",
     "start_time": "2023-03-23T02:55:55.171838Z"
    }
   },
   "outputs": [],
   "source": [
    "def _run_step_numpy(action):\n",
    "    state, reward, done, _, _ = env.step(action)\n",
    "    return (state.astype(np.float32), np.array(reward, dtype=np.float32), np.array(done, dtype=np.int32))\n",
    "\n",
    "def run_step_tf(action):\n",
    "    return tf.numpy_function(_run_step_numpy, [action], (tf.float32, tf.float32, tf.int32))\n",
    "\n",
    "def run_step(start_state, model, step_length):\n",
    "\n",
    "    values = tf.TensorArray(tf.float32, size=0, dynamic_size=True)\n",
    "    actions = tf.TensorArray(tf.int32, size=0, dynamic_size=True)\n",
    "    action_probs = tf.TensorArray(tf.float32, size=0, dynamic_size=True)\n",
    "    rewards = tf.TensorArray(tf.float32, size=0, dynamic_size=True)\n",
    "    done = tf.constant(True, dtype=tf.bool)\n",
    "    done_shape = done.shape\n",
    "    \n",
    "    state = start_state\n",
    "    for t in tf.range(step_length):\n",
    "        action_output, value = model(tf.expand_dims(state, 0))\n",
    "        action = tf.random.categorical(tf.math.log(action_output), num_samples=1, dtype=tf.int32)[0,0]     \n",
    "        state, reward, done = run_step_tf(action)\n",
    "        state.set_shape(initial_state_shape)\n",
    "        \n",
    "        actions = actions.write(t, action)\n",
    "        values = values.write(t, tf.squeeze(value))\n",
    "        rewards = rewards.write(t, reward)\n",
    "        action_probs = action_probs.write(t, action_output[0, action])\n",
    "        done = tf.cast(done, dtype=tf.bool)\n",
    "        done.set_shape(done_shape)\n",
    "        if done:\n",
    "            break\n",
    "    next_value = tf.constant(0.0, dtype=tf.float32)\n",
    "    if t == step_length - 1:\n",
    "        vcomplete = 1 / (1 - gamma)\n",
    "        vcomplete = tf.constant(vcomplete, dtype=tf.float32)\n",
    "        rewards = rewards.write(t-1, vcomplete)\n",
    "     \n",
    "    actions = actions.stack()\n",
    "    values = values.stack()\n",
    "    action_probs = action_probs.stack()\n",
    "    rewards = rewards.stack()\n",
    "    return values, actions, action_probs, rewards, next_value, state, done"
   ]
  },
  {
   "cell_type": "code",
   "execution_count": 6,
   "id": "0765783e",
   "metadata": {
    "ExecuteTime": {
     "end_time": "2023-03-23T02:55:55.262594Z",
     "start_time": "2023-03-23T02:55:55.177908Z"
    }
   },
   "outputs": [
    {
     "name": "stderr",
     "output_type": "stream",
     "text": [
      "/home/wei/anaconda3/envs/tf_211/lib/python3.10/site-packages/gym/utils/passive_env_checker.py:233: DeprecationWarning: `np.bool8` is a deprecated alias for `np.bool_`.  (Deprecated NumPy 1.24)\n",
      "  if not isinstance(terminated, (bool, np.bool8)):\n"
     ]
    }
   ],
   "source": [
    "state_, _ = env.reset()\n",
    "result = run_step(state_, model, 100)\n",
    "values, actions, action_probs, rewards, next_state, state, done = result"
   ]
  },
  {
   "cell_type": "markdown",
   "id": "b8a96751",
   "metadata": {},
   "source": [
    "# define returns"
   ]
  },
  {
   "cell_type": "code",
   "execution_count": 7,
   "id": "9412eb79",
   "metadata": {
    "ExecuteTime": {
     "end_time": "2023-03-23T02:55:55.267037Z",
     "start_time": "2023-03-23T02:55:55.263703Z"
    }
   },
   "outputs": [],
   "source": [
    "def get_returns(rewards_array, gamma=0.99):\n",
    "    \"\"\"\n",
    "    Input: total_rewards is a value\n",
    "    Output: \n",
    "        discount_array: array of discount rate.\n",
    "            index i to the (end timestamp + 1) discount rate\n",
    "        returns: array of discounted returns\n",
    "            index i means the returns between index i to the index(end timestamp + 1)\n",
    "    \"\"\"\n",
    "    rewards_array = tf.squeeze(rewards_array)\n",
    "    gamma = tf.constant(gamma, tf.float32)\n",
    "    discounted_return = tf.constant(0.0, tf.float32)\n",
    "    dshape = discounted_return.shape\n",
    "    returns = tf.TensorArray(tf.float32, size=0, dynamic_size=True)\n",
    "    for idx in tf.range(tf.shape(rewards_array)[0] -1, -1, -1):\n",
    "        discounted_return = gamma * discounted_return + rewards_array[idx]\n",
    "        discounted_return.set_shape(dshape)\n",
    "        returns = returns.write(idx, discounted_return)\n",
    "    discount_array = tf.ones_like(rewards_array, dtype=tf.float32) * gamma\n",
    "    discount_array = tf.math.cumprod(discount_array, reverse=True)\n",
    "    returns = returns.stack()\n",
    "    \n",
    "    returns = (returns - tf.math.reduce_mean(returns)) / (eps + tf.math.reduce_std(returns))\n",
    "    \n",
    "    return discount_array, returns\n",
    " "
   ]
  },
  {
   "cell_type": "code",
   "execution_count": 8,
   "id": "232c4638",
   "metadata": {
    "ExecuteTime": {
     "end_time": "2023-03-23T02:55:55.283082Z",
     "start_time": "2023-03-23T02:55:55.267898Z"
    }
   },
   "outputs": [
    {
     "data": {
      "text/plain": [
       "(<tf.Tensor: shape=(13,), dtype=float32, numpy=\n",
       " array([0.8775211 , 0.88638496, 0.89533836, 0.90438217, 0.91351736,\n",
       "        0.9227448 , 0.9320654 , 0.9414802 , 0.95099014, 0.9605961 ,\n",
       "        0.97029907, 0.98010004, 0.99      ], dtype=float32)>,\n",
       " <tf.Tensor: shape=(13,), dtype=float32, numpy=\n",
       " array([ 1.5741005 ,  1.3213521 ,  1.0660509 ,  0.8081708 ,  0.54768586,\n",
       "         0.28456986,  0.01879591, -0.24966256, -0.5208328 , -0.79474217,\n",
       "        -1.0714182 , -1.350889  , -1.6331825 ], dtype=float32)>)"
      ]
     },
     "execution_count": 8,
     "metadata": {},
     "output_type": "execute_result"
    }
   ],
   "source": [
    "rewards = result[3]\n",
    "get_returns(rewards)"
   ]
  },
  {
   "cell_type": "markdown",
   "id": "7a873d05",
   "metadata": {},
   "source": [
    "# Loss"
   ]
  },
  {
   "cell_type": "code",
   "execution_count": 9,
   "id": "e88c5219",
   "metadata": {
    "ExecuteTime": {
     "end_time": "2023-03-23T02:55:55.286911Z",
     "start_time": "2023-03-23T02:55:55.284062Z"
    }
   },
   "outputs": [],
   "source": [
    "loss_func = tf.keras.losses.MeanSquaredError(reduction=tf.keras.losses.Reduction.SUM_OVER_BATCH_SIZE)\n",
    "def calculate_loss(returns, values, action_probs, value_next, discount_array):\n",
    "    \"\"\"\n",
    "    Policy part ---------\n",
    "    V(St) = E(Q) = Pi(St, At1; theta) * Q(St, At1) + ...\n",
    "    G denote gradient W.R.T theta\n",
    "    \n",
    "    \n",
    "    G(V(St)) = G[Pi(St, At1; theta) * Q(St, At1) + ...]\n",
    "                approximate= Pi(St, A1)* G(logpi(St, At1; theta) * Q) + ...  # chain rule G(logpi) = 1/pi * G(pi)\n",
    "                = E[ G(logpi * Q) ] # Pi(St, A) is the PDF, so this is the expectation\n",
    "              [1]  approximate= G(logpi * Q)  # monte carlo approximation\n",
    "              [2]  = G(logpi * (Q - baseline))  where baseline can be V. This is the A2C\n",
    "                  Qt can be approximate by Yt\n",
    "              Yt = gamma^T * Q(T) + r + gamma*r + gamma^2*r + ...\n",
    "              \n",
    "    Critic Part TD learning -----------\n",
    "    Qt = discounted_ovserved + QT\n",
    "            \n",
    "    \"\"\"\n",
    "    logpi = tf.math.log( tf.clip_by_value(action_probs, eps, 1.0))\n",
    "    Yt = returns\n",
    "\n",
    "    \n",
    "    # this is the negative gradient instead of loss\n",
    "    loss_actor = - logpi * (Yt - values)\n",
    "    loss_actor = tf.reduce_mean(loss_actor)\n",
    "    # critic\n",
    "    loss_critic = loss_func(tf.expand_dims(Yt, 1), tf.expand_dims(values,1))\n",
    "    loss = loss_actor + loss_critic\n",
    "    return loss, loss_actor, loss_critic#, abs(Yt - values)"
   ]
  },
  {
   "cell_type": "code",
   "execution_count": 10,
   "id": "9b72202c",
   "metadata": {
    "ExecuteTime": {
     "end_time": "2023-03-23T02:55:55.301044Z",
     "start_time": "2023-03-23T02:55:55.287835Z"
    }
   },
   "outputs": [
    {
     "data": {
      "text/plain": [
       "(<tf.Tensor: shape=(), dtype=float32, numpy=0.93982494>,\n",
       " <tf.Tensor: shape=(), dtype=float32, numpy=0.13351662>,\n",
       " <tf.Tensor: shape=(), dtype=float32, numpy=0.8063083>)"
      ]
     },
     "execution_count": 10,
     "metadata": {},
     "output_type": "execute_result"
    }
   ],
   "source": [
    "values, actions, action_probs, rewards, next_value, state, done = result\n",
    "discount_array, returns_array = get_returns(rewards, gamma)\n",
    "calculate_loss(returns_array, values, action_probs, next_value, discount_array)"
   ]
  },
  {
   "cell_type": "markdown",
   "id": "123a2689",
   "metadata": {},
   "source": [
    "# train step"
   ]
  },
  {
   "cell_type": "code",
   "execution_count": 11,
   "id": "ea4f1820",
   "metadata": {
    "ExecuteTime": {
     "end_time": "2023-03-23T02:55:55.306293Z",
     "start_time": "2023-03-23T02:55:55.302016Z"
    }
   },
   "outputs": [],
   "source": [
    "optimizer = tf.keras.optimizers.Adam(learning_rate=lr)\n",
    "\n",
    "@tf.function\n",
    "def run_train_step(model, optimizer, start_state, step_length):\n",
    "    with tf.GradientTape() as tape:\n",
    "        STEP_RES = run_step(start_state, model, step_length)\n",
    "        values, actions, action_probs, rewards, next_value, state, done = STEP_RES\n",
    "        discount_array, returns_array = get_returns(rewards, gamma)\n",
    "        loss, loss_actor, loss_critic = calculate_loss(returns_array, values, action_probs, next_value, discount_array)\n",
    "    gradient = tape.gradient(loss, model.trainable_variables)\n",
    "    optimizer.apply_gradients(zip(gradient, model.trainable_variables))\n",
    "    return STEP_RES, loss, loss_actor, loss_critic"
   ]
  },
  {
   "cell_type": "code",
   "execution_count": 12,
   "id": "4ecf721e",
   "metadata": {
    "ExecuteTime": {
     "end_time": "2023-03-23T02:55:56.709142Z",
     "start_time": "2023-03-23T02:55:55.307203Z"
    }
   },
   "outputs": [
    {
     "data": {
      "text/plain": [
       "((<tf.Tensor: shape=(22,), dtype=float32, numpy=\n",
       "  array([-0.01390077, -0.07347272, -0.14109139, -0.21082586, -0.15163258,\n",
       "         -0.2225439 , -0.1640909 , -0.10412578, -0.04242656, -0.11537315,\n",
       "         -0.18688466, -0.13126013, -0.2027845 , -0.1498783 , -0.09456152,\n",
       "         -0.04376899, -0.0395373 , -0.05625365, -0.03924988, -0.06701837,\n",
       "         -0.14704163, -0.08850037], dtype=float32)>,\n",
       "  <tf.Tensor: shape=(22,), dtype=int32, numpy=\n",
       "  array([1, 1, 1, 0, 1, 0, 0, 0, 1, 1, 0, 1, 0, 0, 0, 0, 1, 0, 1, 1, 0, 0],\n",
       "        dtype=int32)>,\n",
       "  <tf.Tensor: shape=(22,), dtype=float32, numpy=\n",
       "  array([0.50216854, 0.5238066 , 0.544504  , 0.43463776, 0.5460203 ,\n",
       "         0.43281898, 0.45206043, 0.4718508 , 0.5069354 , 0.5291674 ,\n",
       "         0.44908667, 0.5307048 , 0.44717515, 0.46793902, 0.4908413 ,\n",
       "         0.51100135, 0.4963419 , 0.5096182 , 0.49025765, 0.49121782,\n",
       "         0.48718253, 0.50910336], dtype=float32)>,\n",
       "  <tf.Tensor: shape=(22,), dtype=float32, numpy=\n",
       "  array([1., 1., 1., 1., 1., 1., 1., 1., 1., 1., 1., 1., 1., 1., 1., 1., 1.,\n",
       "         1., 1., 1., 1., 1.], dtype=float32)>,\n",
       "  <tf.Tensor: shape=(), dtype=float32, numpy=0.0>,\n",
       "  <tf.Tensor: shape=(4,), dtype=float32, numpy=array([ 0.07262924, -0.31862703, -0.21076645, -0.22853915], dtype=float32)>,\n",
       "  <tf.Tensor: shape=(), dtype=bool, numpy=True>),\n",
       " <tf.Tensor: shape=(), dtype=float32, numpy=1.1338993>,\n",
       " <tf.Tensor: shape=(), dtype=float32, numpy=0.0840064>,\n",
       " <tf.Tensor: shape=(), dtype=float32, numpy=1.0498929>)"
      ]
     },
     "execution_count": 12,
     "metadata": {},
     "output_type": "execute_result"
    }
   ],
   "source": [
    "_state, _ = env.reset()\n",
    "run_train_step(model, optimizer, _state, 50)"
   ]
  },
  {
   "cell_type": "markdown",
   "id": "0be4a1c9",
   "metadata": {},
   "source": [
    "# RUN"
   ]
  },
  {
   "cell_type": "code",
   "execution_count": 13,
   "id": "d3289955",
   "metadata": {
    "ExecuteTime": {
     "end_time": "2023-03-23T02:56:50.900199Z",
     "start_time": "2023-03-23T02:55:56.710538Z"
    }
   },
   "outputs": [
    {
     "name": "stderr",
     "output_type": "stream",
     "text": [
      "  4%|▎         | 360/10000 [00:54<24:10,  6.64it/s, current_reward=599, loss=1.27, running_rewards=476]    \n"
     ]
    }
   ],
   "source": [
    "min_epoch = 100\n",
    "max_epoch = 10000\n",
    "step_length = 500\n",
    "thred = 475\n",
    "running_rewards = collections.deque(maxlen=100)\n",
    "max_steps_per_epoch = 500\n",
    "all_rewards = []\n",
    "all_running_rewards = []\n",
    "t = tqdm.trange(max_epoch)\n",
    "for i in t:\n",
    "    start_state, _ = env.reset()\n",
    "    cur_step = 0\n",
    "    epoch_reward = 0\n",
    "    while cur_step < max_steps_per_epoch:\n",
    "        STEP_RES, loss, loss_actor, loss_critic = run_train_step(model, optimizer, start_state, step_length)\n",
    "        cur_step += step_length\n",
    "        values, actions, action_probs, rewards, next_value, state, done = STEP_RES\n",
    "        epoch_reward += int(sum(rewards))\n",
    "        if done:\n",
    "            break\n",
    "    running_rewards.append(epoch_reward)\n",
    "    avg_reward = statistics.mean(running_rewards)\n",
    "    all_rewards.append(epoch_reward)\n",
    "    all_running_rewards.append(avg_reward)\n",
    "    t.set_postfix(running_rewards=avg_reward, current_reward=epoch_reward, loss=float(loss))\n",
    "    if avg_reward > thred and i > min_epoch:\n",
    "        break\n",
    "    \n",
    "    \n"
   ]
  },
  {
   "cell_type": "code",
   "execution_count": 14,
   "id": "8c2ba55b",
   "metadata": {
    "ExecuteTime": {
     "end_time": "2023-03-23T02:56:50.905298Z",
     "start_time": "2023-03-23T02:56:50.902364Z"
    }
   },
   "outputs": [
    {
     "data": {
      "text/plain": [
       "'\\nno normalization\\n(1) 663/10000 [02:34<36:16,  4.29it/s, current_reward=1000, loss=409, running_rewards=482]  \\n(2) 491/10000 [03:25<1:06:16,  2.39it/s, current_reward=392, loss=916, running_rewards=476] \\n(3) 511/10000 [03:54<1:12:42,  2.18it/s, current_reward=1000, loss=745, running_rewards=479]\\n(4) 658/10000 [04:02<57:26,  2.71it/s, current_reward=1000, loss=634, running_rewards=480]\\n\\nwith normalization\\nSUM\\n(1) 7%|▋         | 679/10000 [05:48<1:19:49,  1.95it/s, current_reward=500, loss=488, running_rewards=476]   \\n\\nMEAN\\n(1) 519/10000 [04:35<1:23:46,  1.89it/s, current_reward=500, loss=0.655, running_rewards=476]  \\n(2) 4%|▍         | 390/10000 [03:22<1:23:05,  1.93it/s, current_reward=405, loss=0.0921, running_rewards=476] \\n(3) 5%|▌         | 513/10000 [04:25<1:21:57,  1.93it/s, current_reward=500, loss=1.05, running_rewards=477]   \\n\\n\\nMEAN + modify last rewards\\n(1) 2%|▏         | 226/10000 [01:36<1:09:17,  2.35it/s, current_reward=598, loss=-.0738, running_rewards=475] \\n(2) 3%|▎         | 294/10000 [01:36<53:09,  3.04it/s, current_reward=598, loss=-.0559, running_rewards=477]   \\n'"
      ]
     },
     "execution_count": 14,
     "metadata": {},
     "output_type": "execute_result"
    }
   ],
   "source": [
    "##\n",
    "\"\"\"\n",
    "no normalization\n",
    "(1) 663/10000 [02:34<36:16,  4.29it/s, current_reward=1000, loss=409, running_rewards=482]  \n",
    "(2) 491/10000 [03:25<1:06:16,  2.39it/s, current_reward=392, loss=916, running_rewards=476] \n",
    "(3) 511/10000 [03:54<1:12:42,  2.18it/s, current_reward=1000, loss=745, running_rewards=479]\n",
    "(4) 658/10000 [04:02<57:26,  2.71it/s, current_reward=1000, loss=634, running_rewards=480]\n",
    "\n",
    "with normalization\n",
    "SUM\n",
    "(1) 7%|▋         | 679/10000 [05:48<1:19:49,  1.95it/s, current_reward=500, loss=488, running_rewards=476]   \n",
    "\n",
    "MEAN\n",
    "(1) 519/10000 [04:35<1:23:46,  1.89it/s, current_reward=500, loss=0.655, running_rewards=476]  \n",
    "(2) 4%|▍         | 390/10000 [03:22<1:23:05,  1.93it/s, current_reward=405, loss=0.0921, running_rewards=476] \n",
    "(3) 5%|▌         | 513/10000 [04:25<1:21:57,  1.93it/s, current_reward=500, loss=1.05, running_rewards=477]   \n",
    "\n",
    "\n",
    "MEAN + modify last rewards\n",
    "(1) 2%|▏         | 226/10000 [01:36<1:09:17,  2.35it/s, current_reward=598, loss=-.0738, running_rewards=475] \n",
    "(2) 3%|▎         | 294/10000 [01:36<53:09,  3.04it/s, current_reward=598, loss=-.0559, running_rewards=477]   \n",
    "\"\"\"\n",
    "\n",
    "# old env\n"
   ]
  },
  {
   "cell_type": "code",
   "execution_count": 15,
   "id": "b3a06a50",
   "metadata": {
    "ExecuteTime": {
     "end_time": "2023-03-23T02:56:51.121018Z",
     "start_time": "2023-03-23T02:56:50.906210Z"
    }
   },
   "outputs": [],
   "source": [
    "from matplotlib import pyplot as plt"
   ]
  },
  {
   "cell_type": "code",
   "execution_count": 16,
   "id": "1d141f82",
   "metadata": {
    "ExecuteTime": {
     "end_time": "2023-03-23T02:56:51.457175Z",
     "start_time": "2023-03-23T02:56:51.122585Z"
    }
   },
   "outputs": [],
   "source": [
    "_state, _ = env.reset()\n",
    "result = run_step(_state, model, 1000)\n",
    "values, actions, action_probs, rewards, next_value, state, done = result"
   ]
  },
  {
   "cell_type": "code",
   "execution_count": 17,
   "id": "6b502d8f",
   "metadata": {
    "ExecuteTime": {
     "end_time": "2023-03-23T02:56:51.552193Z",
     "start_time": "2023-03-23T02:56:51.458470Z"
    }
   },
   "outputs": [
    {
     "data": {
      "text/plain": [
       "[<matplotlib.lines.Line2D at 0x7f4224536a70>]"
      ]
     },
     "execution_count": 17,
     "metadata": {},
     "output_type": "execute_result"
    },
    {
     "data": {
      "image/png": "[encoded data removed]",
      "text/plain": [
       "<Figure size 640x480 with 1 Axes>"
      ]
     },
     "metadata": {},
     "output_type": "display_data"
    }
   ],
   "source": [
    "plt.plot(range(len(values)), values)"
   ]
  },
  {
   "cell_type": "code",
   "execution_count": 27,
   "id": "b9c2eaf6",
   "metadata": {
    "ExecuteTime": {
     "end_time": "2023-03-23T02:57:43.072507Z",
     "start_time": "2023-03-23T02:57:41.928154Z"
    }
   },
   "outputs": [],
   "source": [
    "# Render an episode and save as a GIF file\n",
    "\n",
    "from IPython import display as ipythondisplay\n",
    "from PIL import Image\n",
    "\n",
    "render_env = gym.make(\"CartPole-v1\", render_mode='rgb_array')\n",
    "\n",
    "def render_episode(env: gym.Env, model: tf.keras.Model, max_steps: int): \n",
    "  state, info = env.reset()\n",
    "  state = tf.constant(state, dtype=tf.float32)\n",
    "  screen = env.render()\n",
    "  images = [Image.fromarray(screen)]\n",
    "  values = []\n",
    "\n",
    "  for i in range(1, max_steps + 1):\n",
    "    state = tf.expand_dims(state, 0)\n",
    "    action_probs, value = model(state)\n",
    "    action = np.argmax(np.squeeze(action_probs))\n",
    "    values.append(tf.squeeze(value))\n",
    "\n",
    "    state, reward, done, truncated, info = env.step(action)\n",
    "    state = tf.constant(state, dtype=tf.float32)\n",
    "\n",
    "    # Render screen every 10 steps\n",
    "    if i % 10 == 0:\n",
    "      screen = env.render()\n",
    "      images.append(Image.fromarray(screen))\n",
    "\n",
    "    if done:\n",
    "      break\n",
    "\n",
    "  return images, values\n",
    "\n",
    "\n",
    "# Save GIF image\n",
    "images,values = render_episode(render_env, model, max_steps_per_epoch)\n",
    "image_file = 'cartpole-v1.gif'\n",
    "# loop=0: loop forever, duration=1: play each frame for 1ms\n",
    "images[0].save(\n",
    "    image_file, save_all=True, append_images=images[1:], loop=0, duration=1)\n"
   ]
  },
  {
   "cell_type": "code",
   "execution_count": 28,
   "id": "2f2bf217",
   "metadata": {
    "ExecuteTime": {
     "end_time": "2023-03-23T02:57:43.076925Z",
     "start_time": "2023-03-23T02:57:43.073913Z"
    }
   },
   "outputs": [
    {
     "data": {
      "text/html": [
       "<img src=\"data:image/gif;base64,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\"/>"
      ],
      "text/plain": [
       "<IPython.core.display.HTML object>"
      ]
     },
     "execution_count": 28,
     "metadata": {},
     "output_type": "execute_result"
    }
   ],
   "source": [
    "import tensorflow_docs.vis.embed as embed\n",
    "embed.embed_file(image_file)"
   ]
  },
  {
   "cell_type": "code",
   "execution_count": 29,
   "id": "b2972fe0",
   "metadata": {
    "ExecuteTime": {
     "end_time": "2023-03-23T02:57:49.684264Z",
     "start_time": "2023-03-23T02:57:49.580672Z"
    }
   },
   "outputs": [
    {
     "data": {
      "text/plain": [
       "[<matplotlib.lines.Line2D at 0x7f41c01511b0>]"
      ]
     },
     "execution_count": 29,
     "metadata": {},
     "output_type": "execute_result"
    },
    {
     "data": {
      "image/png": "[encoded data removed]",
      "text/plain": [
       "<Figure size 640x480 with 1 Axes>"
      ]
     },
     "metadata": {},
     "output_type": "display_data"
    }
   ],
   "source": [
    "values = tf.stack(values)\n",
    "values = values.numpy()\n",
    "plt.plot(range(len(values)), values)"
   ]
  },
  {
   "cell_type": "code",
   "execution_count": null,
   "id": "dbc62dbf",
   "metadata": {},
   "outputs": [],
   "source": []
  }
 ],
 "metadata": {
  "kernelspec": {
   "display_name": "tf211",
   "language": "python",
   "name": "tf211"
  },
  "language_info": {
   "codemirror_mode": {
    "name": "ipython",
    "version": 3
   },
   "file_extension": ".py",
   "mimetype": "text/x-python",
   "name": "python",
   "nbconvert_exporter": "python",
   "pygments_lexer": "ipython3",
   "version": "3.10.9"
  },
  "toc": {
   "base_numbering": 1,
   "nav_menu": {},
   "number_sections": true,
   "sideBar": true,
   "skip_h1_title": false,
   "title_cell": "Table of Contents",
   "title_sidebar": "Contents",
   "toc_cell": false,
   "toc_position": {},
   "toc_section_display": true,
   "toc_window_display": false
  }
 },
 "nbformat": 4,
 "nbformat_minor": 5
}
