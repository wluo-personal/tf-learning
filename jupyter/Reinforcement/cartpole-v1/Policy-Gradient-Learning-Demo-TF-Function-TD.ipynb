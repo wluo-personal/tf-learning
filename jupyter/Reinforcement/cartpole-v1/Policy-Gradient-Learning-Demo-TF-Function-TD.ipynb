{
 "cells": [
  {
   "cell_type": "markdown",
   "id": "1655d2b7",
   "metadata": {},
   "source": [
    "This notebook focus on Actor-Critc and A2C"
   ]
  },
  {
   "cell_type": "code",
   "execution_count": 1,
   "id": "20cf64ee",
   "metadata": {
    "ExecuteTime": {
     "end_time": "2023-03-23T03:38:41.869813Z",
     "start_time": "2023-03-23T03:38:40.850158Z"
    }
   },
   "outputs": [
    {
     "name": "stderr",
     "output_type": "stream",
     "text": [
      "2023-03-23 03:38:40.957729: I tensorflow/core/platform/cpu_feature_guard.cc:193] This TensorFlow binary is optimized with oneAPI Deep Neural Network Library (oneDNN) to use the following CPU instructions in performance-critical operations:  AVX2 FMA\n",
      "To enable them in other operations, rebuild TensorFlow with the appropriate compiler flags.\n",
      "2023-03-23 03:38:41.039227: W tensorflow/compiler/xla/stream_executor/platform/default/dso_loader.cc:64] Could not load dynamic library 'libcudart.so.11.0'; dlerror: libcudart.so.11.0: cannot open shared object file: No such file or directory\n",
      "2023-03-23 03:38:41.039243: I tensorflow/compiler/xla/stream_executor/cuda/cudart_stub.cc:29] Ignore above cudart dlerror if you do not have a GPU set up on your machine.\n",
      "2023-03-23 03:38:41.420562: W tensorflow/compiler/xla/stream_executor/platform/default/dso_loader.cc:64] Could not load dynamic library 'libnvinfer.so.7'; dlerror: libnvinfer.so.7: cannot open shared object file: No such file or directory\n",
      "2023-03-23 03:38:41.420600: W tensorflow/compiler/xla/stream_executor/platform/default/dso_loader.cc:64] Could not load dynamic library 'libnvinfer_plugin.so.7'; dlerror: libnvinfer_plugin.so.7: cannot open shared object file: No such file or directory\n",
      "2023-03-23 03:38:41.420604: W tensorflow/compiler/tf2tensorrt/utils/py_utils.cc:38] TF-TRT Warning: Cannot dlopen some TensorRT libraries. If you would like to use Nvidia GPU with TensorRT, please make sure the missing libraries mentioned above are installed properly.\n"
     ]
    }
   ],
   "source": [
    "import os\n",
    "# disable tensorflow logging\n",
    "# os.environ['TF_CPP_MIN_LOG_LEVEL'] = '2'\n",
    "\n",
    "import statistics\n",
    "import numpy as np\n",
    "import tensorflow as tf\n",
    "import gym\n",
    "import tqdm\n",
    "import collections\n"
   ]
  },
  {
   "cell_type": "code",
   "execution_count": 2,
   "id": "cec5b7db",
   "metadata": {
    "ExecuteTime": {
     "end_time": "2023-03-23T03:38:41.875175Z",
     "start_time": "2023-03-23T03:38:41.871572Z"
    }
   },
   "outputs": [],
   "source": [
    "class Env():\n",
    "    def __init__(self, max_step=1000):\n",
    "        self.env = gym.make(\"CartPole-v1\")\n",
    "        self.max_step = max_step\n",
    "        self.cur_step = 1\n",
    "        self.action_space = self.env.action_space\n",
    "        \n",
    "    def reset(self):\n",
    "        self.cur_step = 1\n",
    "        initial_state, info = self.env.reset()\n",
    "        initial_state = self.add_step_into_state(initial_state)\n",
    "        return initial_state, info\n",
    "    \n",
    "    def add_step_into_state(self, state):\n",
    "#         state = np.concatenate([state, np.array([self.cur_step/self.max_step])])\n",
    "        \n",
    "        return state\n",
    "    \n",
    "    def step(self, action):\n",
    "        self.cur_step += 1\n",
    "        state, reward, done, _, _ = self.env.step(action)\n",
    "        if self.cur_step > self.max_step:\n",
    "            reward = 1.0\n",
    "            done = True\n",
    "            self.cur_step = self.max_step + 1\n",
    "        else:\n",
    "            if done:\n",
    "                reward = 1.0\n",
    "        state = self.add_step_into_state(state)\n",
    "        return state, reward, done, _, _"
   ]
  },
  {
   "cell_type": "code",
   "execution_count": 3,
   "id": "293f6b3e",
   "metadata": {
    "ExecuteTime": {
     "end_time": "2023-03-23T03:38:41.927661Z",
     "start_time": "2023-03-23T03:38:41.876116Z"
    }
   },
   "outputs": [],
   "source": [
    "env = gym.make(\"CartPole-v1\")\n",
    "# env = Env()\n",
    "initial_state, _ = env.reset()\n",
    "initial_state_shape = initial_state.shape\n",
    "action_space = env.action_space.n\n",
    "eps = np.finfo(np.float32).eps.item()\n",
    "gamma = 0.99\n",
    "lr = 0.01\n",
    "step_length = 50\n"
   ]
  },
  {
   "cell_type": "markdown",
   "id": "2b1a500b",
   "metadata": {
    "ExecuteTime": {
     "end_time": "2023-03-15T15:45:52.459819Z",
     "start_time": "2023-03-15T15:45:52.453876Z"
    }
   },
   "source": [
    "# define model"
   ]
  },
  {
   "cell_type": "code",
   "execution_count": 4,
   "id": "e1719071",
   "metadata": {
    "ExecuteTime": {
     "end_time": "2023-03-23T03:38:42.035947Z",
     "start_time": "2023-03-23T03:38:41.928572Z"
    }
   },
   "outputs": [
    {
     "name": "stdout",
     "output_type": "stream",
     "text": [
      "Model: \"model\"\n",
      "__________________________________________________________________________________________________\n",
      " Layer (type)                   Output Shape         Param #     Connected to                     \n",
      "==================================================================================================\n",
      " input_1 (InputLayer)           [(None, 4)]          0           []                               \n",
      "                                                                                                  \n",
      " dense (Dense)                  (None, 128)          640         ['input_1[0][0]']                \n",
      "                                                                                                  \n",
      " dense_1 (Dense)                (None, 2)            258         ['dense[0][0]']                  \n",
      "                                                                                                  \n",
      " dense_2 (Dense)                (None, 1)            129         ['dense[0][0]']                  \n",
      "                                                                                                  \n",
      "==================================================================================================\n",
      "Total params: 1,027\n",
      "Trainable params: 1,027\n",
      "Non-trainable params: 0\n",
      "__________________________________________________________________________________________________\n"
     ]
    },
    {
     "name": "stderr",
     "output_type": "stream",
     "text": [
      "2023-03-23 03:38:41.989520: I tensorflow/compiler/xla/stream_executor/cuda/cuda_gpu_executor.cc:981] successful NUMA node read from SysFS had negative value (-1), but there must be at least one NUMA node, so returning NUMA node zero\n",
      "2023-03-23 03:38:41.989713: W tensorflow/compiler/xla/stream_executor/platform/default/dso_loader.cc:64] Could not load dynamic library 'libcudart.so.11.0'; dlerror: libcudart.so.11.0: cannot open shared object file: No such file or directory\n",
      "2023-03-23 03:38:41.989752: W tensorflow/compiler/xla/stream_executor/platform/default/dso_loader.cc:64] Could not load dynamic library 'libcublas.so.11'; dlerror: libcublas.so.11: cannot open shared object file: No such file or directory\n",
      "2023-03-23 03:38:41.989780: W tensorflow/compiler/xla/stream_executor/platform/default/dso_loader.cc:64] Could not load dynamic library 'libcublasLt.so.11'; dlerror: libcublasLt.so.11: cannot open shared object file: No such file or directory\n",
      "2023-03-23 03:38:41.989805: W tensorflow/compiler/xla/stream_executor/platform/default/dso_loader.cc:64] Could not load dynamic library 'libcufft.so.10'; dlerror: libcufft.so.10: cannot open shared object file: No such file or directory\n",
      "2023-03-23 03:38:41.989831: W tensorflow/compiler/xla/stream_executor/platform/default/dso_loader.cc:64] Could not load dynamic library 'libcurand.so.10'; dlerror: libcurand.so.10: cannot open shared object file: No such file or directory\n",
      "2023-03-23 03:38:41.989856: W tensorflow/compiler/xla/stream_executor/platform/default/dso_loader.cc:64] Could not load dynamic library 'libcusolver.so.11'; dlerror: libcusolver.so.11: cannot open shared object file: No such file or directory\n",
      "2023-03-23 03:38:41.989881: W tensorflow/compiler/xla/stream_executor/platform/default/dso_loader.cc:64] Could not load dynamic library 'libcusparse.so.11'; dlerror: libcusparse.so.11: cannot open shared object file: No such file or directory\n",
      "2023-03-23 03:38:41.989906: W tensorflow/compiler/xla/stream_executor/platform/default/dso_loader.cc:64] Could not load dynamic library 'libcudnn.so.8'; dlerror: libcudnn.so.8: cannot open shared object file: No such file or directory\n",
      "2023-03-23 03:38:41.989912: W tensorflow/core/common_runtime/gpu/gpu_device.cc:1934] Cannot dlopen some GPU libraries. Please make sure the missing libraries mentioned above are installed properly if you would like to use GPU. Follow the guide at https://www.tensorflow.org/install/gpu for how to download and setup the required libraries for your platform.\n",
      "Skipping registering GPU devices...\n",
      "2023-03-23 03:38:41.990348: I tensorflow/core/platform/cpu_feature_guard.cc:193] This TensorFlow binary is optimized with oneAPI Deep Neural Network Library (oneDNN) to use the following CPU instructions in performance-critical operations:  AVX2 FMA\n",
      "To enable them in other operations, rebuild TensorFlow with the appropriate compiler flags.\n"
     ]
    }
   ],
   "source": [
    "\"\"\"\n",
    "The model will use basic Actor-Critc (A2C with baseline)\n",
    "\"\"\"\n",
    "\n",
    "def get_model():\n",
    "    inputs = tf.keras.layers.Input(shape=initial_state_shape)\n",
    "    hidden = tf.keras.layers.Dense(128, activation=\"relu\")(inputs)\n",
    "    actions = tf.keras.layers.Dense(action_space, activation=tf.keras.activations.softmax)(hidden)\n",
    "    value = tf.keras.layers.Dense(1, activation=None)(hidden)\n",
    "    outs = [actions, value]\n",
    "    return tf.keras.Model(inputs, outs)\n",
    "\n",
    "model = get_model()\n",
    "model.summary()"
   ]
  },
  {
   "cell_type": "markdown",
   "id": "045086a7",
   "metadata": {
    "ExecuteTime": {
     "end_time": "2023-03-15T15:51:42.446877Z",
     "start_time": "2023-03-15T15:51:42.443577Z"
    }
   },
   "source": [
    "# define data collection"
   ]
  },
  {
   "cell_type": "code",
   "execution_count": 5,
   "id": "518cbe4a",
   "metadata": {
    "ExecuteTime": {
     "end_time": "2023-03-23T03:38:42.043144Z",
     "start_time": "2023-03-23T03:38:42.037876Z"
    }
   },
   "outputs": [],
   "source": [
    "def _run_step_numpy(action):\n",
    "    state, reward, done, _, _ = env.step(action)\n",
    "    return (state.astype(np.float32), np.array(reward, dtype=np.float32), np.array(done, dtype=np.int32))\n",
    "\n",
    "def run_step_tf(action):\n",
    "    return tf.numpy_function(_run_step_numpy, [action], (tf.float32, tf.float32, tf.int32))\n",
    "\n",
    "def run_step(start_state, model, step_length):\n",
    "\n",
    "    values = tf.TensorArray(tf.float32, size=0, dynamic_size=True)\n",
    "    actions = tf.TensorArray(tf.int32, size=0, dynamic_size=True)\n",
    "    action_probs = tf.TensorArray(tf.float32, size=0, dynamic_size=True)\n",
    "    rewards = tf.TensorArray(tf.float32, size=0, dynamic_size=True)\n",
    "    done = tf.constant(True, dtype=tf.bool)\n",
    "    done_shape = done.shape\n",
    "    \n",
    "    state = start_state\n",
    "    for t in tf.range(step_length):\n",
    "        action_output, value = model(tf.expand_dims(state, 0))\n",
    "        action = tf.random.categorical(tf.math.log(action_output), num_samples=1, dtype=tf.int32)[0,0]   \n",
    "        \n",
    "        state, reward, done = run_step_tf(action)\n",
    "        state.set_shape(initial_state_shape)\n",
    "        \n",
    "        actions = actions.write(t, action)\n",
    "        values = values.write(t, tf.squeeze(value))\n",
    "        rewards = rewards.write(t, reward)\n",
    "        action_probs = action_probs.write(t, action_output[0, action])\n",
    "        done = tf.cast(done, dtype=tf.bool)\n",
    "        done.set_shape(done_shape)\n",
    "        if done:\n",
    "            break\n",
    "    \n",
    "    next_value = tf.constant(0.0, dtype=tf.float32)\n",
    "    next_value_shape = next_value.shape\n",
    "    if not done:\n",
    "        _, next_value = model(tf.expand_dims(state, 0))\n",
    "        next_value = tf.squeeze(next_value)\n",
    "        next_value.set_shape(next_value_shape)\n",
    "     \n",
    "    actions = actions.stack()\n",
    "    values = values.stack()\n",
    "    action_probs = action_probs.stack()\n",
    "    rewards = rewards.stack()\n",
    "    return values, actions, action_probs, rewards, next_value, state, done"
   ]
  },
  {
   "cell_type": "code",
   "execution_count": 6,
   "id": "0765783e",
   "metadata": {
    "ExecuteTime": {
     "end_time": "2023-03-23T03:38:42.159443Z",
     "start_time": "2023-03-23T03:38:42.044144Z"
    }
   },
   "outputs": [
    {
     "name": "stderr",
     "output_type": "stream",
     "text": [
      "/home/wei/anaconda3/envs/tf_211/lib/python3.10/site-packages/gym/utils/passive_env_checker.py:233: DeprecationWarning: `np.bool8` is a deprecated alias for `np.bool_`.  (Deprecated NumPy 1.24)\n",
      "  if not isinstance(terminated, (bool, np.bool8)):\n"
     ]
    }
   ],
   "source": [
    "state_, _ = env.reset()\n",
    "result = run_step(state_, model, 500)\n",
    "values, actions, action_probs, rewards, next_value, state, done = result"
   ]
  },
  {
   "cell_type": "markdown",
   "id": "b8a96751",
   "metadata": {},
   "source": [
    "# define returns"
   ]
  },
  {
   "cell_type": "code",
   "execution_count": 7,
   "id": "9412eb79",
   "metadata": {
    "ExecuteTime": {
     "end_time": "2023-03-23T03:38:42.164133Z",
     "start_time": "2023-03-23T03:38:42.160718Z"
    }
   },
   "outputs": [],
   "source": [
    "def get_returns(rewards_array, gamma=0.99):\n",
    "    \"\"\"\n",
    "    Input: total_rewards is a value\n",
    "    Output: \n",
    "        discount_array: array of discount rate.\n",
    "            index i to the (end timestamp + 1) discount rate\n",
    "        returns: array of discounted returns\n",
    "            index i means the returns between index i to the index(end timestamp + 1)\n",
    "    \"\"\"\n",
    "    rewards_array = tf.squeeze(rewards_array)\n",
    "    gamma = tf.constant(gamma, tf.float32)\n",
    "    discounted_return = tf.constant(0.0, tf.float32)\n",
    "    dshape = discounted_return.shape\n",
    "    returns = tf.TensorArray(tf.float32, size=0, dynamic_size=True)\n",
    "    for idx in tf.range(tf.shape(rewards_array)[0] -1, -1, -1):\n",
    "        discounted_return = gamma * discounted_return + rewards_array[idx]\n",
    "        discounted_return.set_shape(dshape)\n",
    "        returns = returns.write(idx, discounted_return)\n",
    "    discount_array = tf.ones_like(rewards_array, dtype=tf.float32) * gamma\n",
    "    discount_array = tf.math.cumprod(discount_array, reverse=True)\n",
    "    returns = returns.stack()\n",
    "    \n",
    "    returns = (returns - tf.math.reduce_mean(returns)) / (eps + tf.math.reduce_std(returns))\n",
    "    \n",
    "    return discount_array, returns\n",
    " "
   ]
  },
  {
   "cell_type": "code",
   "execution_count": 8,
   "id": "232c4638",
   "metadata": {
    "ExecuteTime": {
     "end_time": "2023-03-23T03:38:42.188443Z",
     "start_time": "2023-03-23T03:38:42.165240Z"
    }
   },
   "outputs": [
    {
     "data": {
      "text/plain": [
       "(<tf.Tensor: shape=(33,), dtype=float32, numpy=\n",
       " array([0.7177307 , 0.7249805 , 0.7323035 , 0.7397005 , 0.74717224,\n",
       "        0.75471944, 0.7623429 , 0.7700433 , 0.77782154, 0.7856783 ,\n",
       "        0.79361445, 0.80163074, 0.809728  , 0.8179071 , 0.8261688 ,\n",
       "        0.8345139 , 0.8429433 , 0.8514579 , 0.8600585 , 0.8687459 ,\n",
       "        0.8775211 , 0.88638496, 0.89533836, 0.90438217, 0.91351736,\n",
       "        0.9227448 , 0.9320654 , 0.9414802 , 0.95099014, 0.9605961 ,\n",
       "        0.97029907, 0.98010004, 0.99      ], dtype=float32)>,\n",
       " <tf.Tensor: shape=(33,), dtype=float32, numpy=\n",
       " array([ 1.59427   ,  1.5047258 ,  1.4142774 ,  1.3229153 ,  1.2306305 ,\n",
       "         1.1374135 ,  1.0432549 ,  0.9481452 ,  0.8520746 ,  0.7550337 ,\n",
       "         0.65701246,  0.55800134,  0.4579899 ,  0.35696834,  0.25492647,\n",
       "         0.1518537 ,  0.04773988, -0.05742556, -0.16365334, -0.2709541 ,\n",
       "        -0.37933874, -0.48881814, -0.5994034 , -0.7111056 , -0.8239361 ,\n",
       "        -0.9379063 , -1.0530279 , -1.1693122 , -1.286771  , -1.4054165 ,\n",
       "        -1.5252604 , -1.6463147 , -1.7685918 ], dtype=float32)>)"
      ]
     },
     "execution_count": 8,
     "metadata": {},
     "output_type": "execute_result"
    }
   ],
   "source": [
    "rewards = result[3]\n",
    "get_returns(rewards)"
   ]
  },
  {
   "cell_type": "markdown",
   "id": "7a873d05",
   "metadata": {},
   "source": [
    "# Loss"
   ]
  },
  {
   "cell_type": "code",
   "execution_count": 9,
   "id": "e88c5219",
   "metadata": {
    "ExecuteTime": {
     "end_time": "2023-03-23T03:38:42.192622Z",
     "start_time": "2023-03-23T03:38:42.189601Z"
    }
   },
   "outputs": [],
   "source": [
    "loss_func = tf.keras.losses.MeanSquaredError(reduction=tf.keras.losses.Reduction.SUM_OVER_BATCH_SIZE)\n",
    "def calculate_loss(returns, values, action_probs, value_next, discount_array):\n",
    "    \"\"\"\n",
    "    Policy part ---------\n",
    "    V(St) = E(Q) = Pi(St, At1; theta) * Q(St, At1) + ...\n",
    "    G denote gradient W.R.T theta\n",
    "    \n",
    "    \n",
    "    G(V(St)) = G[Pi(St, At1; theta) * Q(St, At1) + ...]\n",
    "                approximate= Pi(St, A1)* G(logpi(St, At1; theta) * Q) + ...  # chain rule G(logpi) = 1/pi * G(pi)\n",
    "                = E[ G(logpi * Q) ] # Pi(St, A) is the PDF, so this is the expectation\n",
    "              [1]  approximate= G(logpi * Q)  # monte carlo approximation\n",
    "              [2]  = G(logpi * (Q - baseline))  where baseline can be V. This is the A2C\n",
    "                  Qt can be approximate by Yt\n",
    "              Yt = gamma^T * Q(T) + r + gamma*r + gamma^2*r + ...\n",
    "              \n",
    "    Critic Part TD learning -----------\n",
    "    Qt = discounted_ovserved + QT\n",
    "            \n",
    "    \"\"\"\n",
    "    logpi = tf.math.log( tf.clip_by_value(action_probs, eps, 1.0))\n",
    "    Yt = returns + discount_array * value_next\n",
    "\n",
    "    \n",
    "    # this is the negative gradient instead of loss\n",
    "    loss_actor = - logpi * (Yt - values)\n",
    "    loss_actor = tf.reduce_mean(loss_actor)\n",
    "    # critic\n",
    "    loss_critic = loss_func(tf.expand_dims(Yt, 1), tf.expand_dims(values,1))\n",
    "    loss = loss_actor + loss_critic\n",
    "    return loss, loss_actor, loss_critic#, abs(Yt - values)"
   ]
  },
  {
   "cell_type": "code",
   "execution_count": 10,
   "id": "9b72202c",
   "metadata": {
    "ExecuteTime": {
     "end_time": "2023-03-23T03:38:42.214823Z",
     "start_time": "2023-03-23T03:38:42.193661Z"
    }
   },
   "outputs": [
    {
     "data": {
      "text/plain": [
       "(<tf.Tensor: shape=(), dtype=float32, numpy=1.0076962>,\n",
       " <tf.Tensor: shape=(), dtype=float32, numpy=-0.04503724>,\n",
       " <tf.Tensor: shape=(), dtype=float32, numpy=1.0527334>)"
      ]
     },
     "execution_count": 10,
     "metadata": {},
     "output_type": "execute_result"
    }
   ],
   "source": [
    "values, actions, action_probs, rewards, next_value, state, done = result\n",
    "discount_array, returns_array = get_returns(rewards, gamma)\n",
    "calculate_loss(returns_array, values, action_probs, next_value, discount_array)"
   ]
  },
  {
   "cell_type": "markdown",
   "id": "123a2689",
   "metadata": {},
   "source": [
    "# train step"
   ]
  },
  {
   "cell_type": "code",
   "execution_count": 11,
   "id": "ea4f1820",
   "metadata": {
    "ExecuteTime": {
     "end_time": "2023-03-23T03:38:42.220529Z",
     "start_time": "2023-03-23T03:38:42.215972Z"
    }
   },
   "outputs": [],
   "source": [
    "optimizer = tf.keras.optimizers.Adam(learning_rate=lr)\n",
    "\n",
    "@tf.function\n",
    "def run_train_step(model, optimizer, start_state, step_length):\n",
    "    with tf.GradientTape() as tape:\n",
    "        STEP_RES = run_step(start_state, model, step_length)\n",
    "        values, actions, action_probs, rewards, next_value, state, done = STEP_RES\n",
    "        discount_array, returns_array = get_returns(rewards, gamma)\n",
    "        loss, loss_actor, loss_critic = calculate_loss(returns_array, values, action_probs, next_value, discount_array)\n",
    "    gradient = tape.gradient(loss, model.trainable_variables)\n",
    "    optimizer.apply_gradients(zip(gradient, model.trainable_variables))\n",
    "    return STEP_RES, loss, loss_actor, loss_critic"
   ]
  },
  {
   "cell_type": "code",
   "execution_count": 12,
   "id": "4ecf721e",
   "metadata": {
    "ExecuteTime": {
     "end_time": "2023-03-23T03:38:43.887768Z",
     "start_time": "2023-03-23T03:38:42.221646Z"
    }
   },
   "outputs": [
    {
     "data": {
      "text/plain": [
       "((<tf.Tensor: shape=(35,), dtype=float32, numpy=\n",
       "  array([0.0096665 , 0.02728885, 0.01036417, 0.02908169, 0.06348184,\n",
       "         0.03162865, 0.0110121 , 0.0349273 , 0.05697164, 0.03198292,\n",
       "         0.0546873 , 0.03003553, 0.05301316, 0.075903  , 0.05130396,\n",
       "         0.07472945, 0.05041291, 0.07425177, 0.05014359, 0.02514842,\n",
       "         0.0515447 , 0.026605  , 0.00476238, 0.0181648 , 0.00381812,\n",
       "         0.03101749, 0.00463236, 0.00285319, 0.00681384, 0.03491031,\n",
       "         0.0079058 , 0.03602284, 0.05976458, 0.03540958, 0.0088207 ],\n",
       "        dtype=float32)>,\n",
       "  <tf.Tensor: shape=(35,), dtype=int32, numpy=\n",
       "  array([0, 1, 0, 0, 1, 1, 1, 1, 0, 1, 0, 1, 1, 0, 1, 0, 1, 0, 0, 1, 0, 0,\n",
       "         0, 1, 1, 0, 0, 1, 1, 0, 1, 1, 0, 0, 0], dtype=int32)>,\n",
       "  <tf.Tensor: shape=(35,), dtype=float32, numpy=\n",
       "  array([0.50536966, 0.5076576 , 0.5043843 , 0.49111578, 0.52564263,\n",
       "         0.51064306, 0.49787328, 0.50108266, 0.4943949 , 0.5000306 ,\n",
       "         0.49568292, 0.49869496, 0.5030301 , 0.4933502 , 0.5005127 ,\n",
       "         0.49596658, 0.4978219 , 0.4986732 , 0.5049682 , 0.48802784,\n",
       "         0.50700283, 0.5147634 , 0.5134517 , 0.5031706 , 0.48189953,\n",
       "         0.51650065, 0.521745  , 0.49306676, 0.47569722, 0.51883805,\n",
       "         0.47287592, 0.4789995 , 0.5159063 , 0.52498555, 0.5343297 ],\n",
       "        dtype=float32)>,\n",
       "  <tf.Tensor: shape=(35,), dtype=float32, numpy=\n",
       "  array([1., 1., 1., 1., 1., 1., 1., 1., 1., 1., 1., 1., 1., 1., 1., 1., 1.,\n",
       "         1., 1., 1., 1., 1., 1., 1., 1., 1., 1., 1., 1., 1., 1., 1., 1., 1.,\n",
       "         1.], dtype=float32)>,\n",
       "  <tf.Tensor: shape=(), dtype=float32, numpy=0.0>,\n",
       "  <tf.Tensor: shape=(4,), dtype=float32, numpy=array([ 0.11297632, -0.21218927, -0.21579279, -0.37202618], dtype=float32)>,\n",
       "  <tf.Tensor: shape=(), dtype=bool, numpy=True>),\n",
       " <tf.Tensor: shape=(), dtype=float32, numpy=0.97088057>,\n",
       " <tf.Tensor: shape=(), dtype=float32, numpy=-0.021361638>,\n",
       " <tf.Tensor: shape=(), dtype=float32, numpy=0.9922422>)"
      ]
     },
     "execution_count": 12,
     "metadata": {},
     "output_type": "execute_result"
    }
   ],
   "source": [
    "_state, _ = env.reset()\n",
    "run_train_step(model, optimizer, _state, 50)"
   ]
  },
  {
   "cell_type": "markdown",
   "id": "0be4a1c9",
   "metadata": {},
   "source": [
    "# RUN"
   ]
  },
  {
   "cell_type": "code",
   "execution_count": 13,
   "id": "d3289955",
   "metadata": {
    "ExecuteTime": {
     "end_time": "2023-03-23T03:40:04.062987Z",
     "start_time": "2023-03-23T03:38:43.889191Z"
    }
   },
   "outputs": [
    {
     "name": "stderr",
     "output_type": "stream",
     "text": [
      "  0%|          | 10/10000 [00:00<01:43, 96.40it/s, current_reward=19, loss=0.623, running_rewards=16]  2023-03-23 03:38:44.050928: W tensorflow/core/framework/op_kernel.cc:1830] OP_REQUIRES failed at strided_slice_op.cc:105 : INVALID_ARGUMENT: slice index 0 of dimension 0 out of bounds.\n",
      "  1%|▏         | 132/10000 [00:02<03:02, 53.94it/s, current_reward=35, loss=1.29, running_rewards=22.8]  2023-03-23 03:38:45.937836: W tensorflow/core/framework/op_kernel.cc:1830] OP_REQUIRES failed at strided_slice_op.cc:105 : INVALID_ARGUMENT: slice index 0 of dimension 0 out of bounds.\n",
      "  4%|▍         | 435/10000 [01:20<29:22,  5.43it/s, current_reward=500, loss=0.507, running_rewards=478] \n"
     ]
    }
   ],
   "source": [
    "min_epoch = 100\n",
    "max_epoch = 10000\n",
    "step_length = 50\n",
    "thred = 475\n",
    "running_rewards = collections.deque(maxlen=100)\n",
    "max_steps_per_epoch = 500\n",
    "all_rewards = []\n",
    "all_running_rewards = []\n",
    "t = tqdm.trange(max_epoch)\n",
    "for i in t:\n",
    "    restart = False\n",
    "    start_state, _ = env.reset()\n",
    "    cur_step = 0\n",
    "    epoch_reward = 0\n",
    "    while cur_step < max_steps_per_epoch:\n",
    "        try:\n",
    "            STEP_RES, loss, loss_actor, loss_critic = run_train_step(model, optimizer, start_state, step_length)\n",
    "        except Exception as e:\n",
    "            restart = True\n",
    "            break\n",
    "        cur_step += step_length\n",
    "        values, actions, action_probs, rewards, next_value, state, done = STEP_RES\n",
    "        epoch_reward += int(sum(rewards))\n",
    "        if done:\n",
    "            break\n",
    "    if restart:\n",
    "        continue\n",
    "    running_rewards.append(epoch_reward)\n",
    "    avg_reward = statistics.mean(running_rewards)\n",
    "    all_rewards.append(epoch_reward)\n",
    "    all_running_rewards.append(avg_reward)\n",
    "    t.set_postfix(running_rewards=avg_reward, current_reward=epoch_reward, loss=float(loss))\n",
    "    if avg_reward > thred and i > min_epoch:\n",
    "        break\n",
    "    \n",
    "    \n"
   ]
  },
  {
   "cell_type": "code",
   "execution_count": 14,
   "id": "8c2ba55b",
   "metadata": {
    "ExecuteTime": {
     "end_time": "2023-03-23T03:40:04.071325Z",
     "start_time": "2023-03-23T03:40:04.066972Z"
    }
   },
   "outputs": [
    {
     "data": {
      "text/plain": [
       "'\\nno normalization\\n(1) 663/10000 [02:34<36:16,  4.29it/s, current_reward=1000, loss=409, running_rewards=482]  \\n(2) 491/10000 [03:25<1:06:16,  2.39it/s, current_reward=392, loss=916, running_rewards=476] \\n(3) 511/10000 [03:54<1:12:42,  2.18it/s, current_reward=1000, loss=745, running_rewards=479]\\n(4) 658/10000 [04:02<57:26,  2.71it/s, current_reward=1000, loss=634, running_rewards=480]\\n\\nwith normalization\\nSUM\\n(1) 7%|▋         | 679/10000 [05:48<1:19:49,  1.95it/s, current_reward=500, loss=488, running_rewards=476]   \\n\\nMEAN\\n(1) 519/10000 [04:35<1:23:46,  1.89it/s, current_reward=500, loss=0.655, running_rewards=476]  \\n(2) 4%|▍         | 390/10000 [03:22<1:23:05,  1.93it/s, current_reward=405, loss=0.0921, running_rewards=476] \\n(3) 5%|▌         | 513/10000 [04:25<1:21:57,  1.93it/s, current_reward=500, loss=1.05, running_rewards=477]   \\n\\n\\nMEAN + modify last rewards\\n(1) 2%|▏         | 226/10000 [01:36<1:09:17,  2.35it/s, current_reward=598, loss=-.0738, running_rewards=475] \\n(2) 3%|▎         | 294/10000 [01:36<53:09,  3.04it/s, current_reward=598, loss=-.0559, running_rewards=477]   \\n'"
      ]
     },
     "execution_count": 14,
     "metadata": {},
     "output_type": "execute_result"
    }
   ],
   "source": [
    "##\n",
    "\"\"\"\n",
    "no normalization\n",
    "(1) 663/10000 [02:34<36:16,  4.29it/s, current_reward=1000, loss=409, running_rewards=482]  \n",
    "(2) 491/10000 [03:25<1:06:16,  2.39it/s, current_reward=392, loss=916, running_rewards=476] \n",
    "(3) 511/10000 [03:54<1:12:42,  2.18it/s, current_reward=1000, loss=745, running_rewards=479]\n",
    "(4) 658/10000 [04:02<57:26,  2.71it/s, current_reward=1000, loss=634, running_rewards=480]\n",
    "\n",
    "with normalization\n",
    "SUM\n",
    "(1) 7%|▋         | 679/10000 [05:48<1:19:49,  1.95it/s, current_reward=500, loss=488, running_rewards=476]   \n",
    "\n",
    "MEAN\n",
    "(1) 519/10000 [04:35<1:23:46,  1.89it/s, current_reward=500, loss=0.655, running_rewards=476]  \n",
    "(2) 4%|▍         | 390/10000 [03:22<1:23:05,  1.93it/s, current_reward=405, loss=0.0921, running_rewards=476] \n",
    "(3) 5%|▌         | 513/10000 [04:25<1:21:57,  1.93it/s, current_reward=500, loss=1.05, running_rewards=477]   \n",
    "\n",
    "\n",
    "MEAN + modify last rewards\n",
    "(1) 2%|▏         | 226/10000 [01:36<1:09:17,  2.35it/s, current_reward=598, loss=-.0738, running_rewards=475] \n",
    "(2) 3%|▎         | 294/10000 [01:36<53:09,  3.04it/s, current_reward=598, loss=-.0559, running_rewards=477]   \n",
    "\"\"\"\n",
    "\n",
    "# old env\n"
   ]
  },
  {
   "cell_type": "code",
   "execution_count": 15,
   "id": "b3a06a50",
   "metadata": {
    "ExecuteTime": {
     "end_time": "2023-03-23T03:40:04.313355Z",
     "start_time": "2023-03-23T03:40:04.072933Z"
    }
   },
   "outputs": [],
   "source": [
    "from matplotlib import pyplot as plt"
   ]
  },
  {
   "cell_type": "code",
   "execution_count": 16,
   "id": "1d141f82",
   "metadata": {
    "ExecuteTime": {
     "end_time": "2023-03-23T03:40:05.891323Z",
     "start_time": "2023-03-23T03:40:04.314946Z"
    }
   },
   "outputs": [],
   "source": [
    "_state, _ = env.reset()\n",
    "result = run_step(_state, model, 1000)\n",
    "values, actions, action_probs, rewards, next_value, state, done = result"
   ]
  },
  {
   "cell_type": "code",
   "execution_count": 17,
   "id": "6b502d8f",
   "metadata": {
    "ExecuteTime": {
     "end_time": "2023-03-23T03:40:05.994438Z",
     "start_time": "2023-03-23T03:40:05.892783Z"
    }
   },
   "outputs": [
    {
     "data": {
      "text/plain": [
       "[<matplotlib.lines.Line2D at 0x7f867877d6c0>]"
      ]
     },
     "execution_count": 17,
     "metadata": {},
     "output_type": "execute_result"
    },
    {
     "data": {
      "image/png": "[encoded data removed]",
      "text/plain": [
       "<Figure size 640x480 with 1 Axes>"
      ]
     },
     "metadata": {},
     "output_type": "display_data"
    }
   ],
   "source": [
    "plt.plot(range(len(values)), values)"
   ]
  },
  {
   "cell_type": "code",
   "execution_count": 18,
   "id": "b9c2eaf6",
   "metadata": {
    "ExecuteTime": {
     "end_time": "2023-03-23T03:40:07.179608Z",
     "start_time": "2023-03-23T03:40:05.995751Z"
    }
   },
   "outputs": [
    {
     "name": "stderr",
     "output_type": "stream",
     "text": [
      "/home/wei/anaconda3/envs/tf_211/lib/python3.10/site-packages/gym/utils/passive_env_checker.py:233: DeprecationWarning: `np.bool8` is a deprecated alias for `np.bool_`.  (Deprecated NumPy 1.24)\n",
      "  if not isinstance(terminated, (bool, np.bool8)):\n"
     ]
    }
   ],
   "source": [
    "# Render an episode and save as a GIF file\n",
    "\n",
    "from IPython import display as ipythondisplay\n",
    "from PIL import Image\n",
    "\n",
    "render_env = gym.make(\"CartPole-v1\", render_mode='rgb_array')\n",
    "\n",
    "def render_episode(env: gym.Env, model: tf.keras.Model, max_steps: int): \n",
    "  state, info = env.reset()\n",
    "  state = tf.constant(state, dtype=tf.float32)\n",
    "  screen = env.render()\n",
    "  images = [Image.fromarray(screen)]\n",
    "  values = []\n",
    "\n",
    "  for i in range(1, max_steps + 1):\n",
    "    state = tf.expand_dims(state, 0)\n",
    "    action_probs, value = model(state)\n",
    "    #option 1\n",
    "    action = np.argmax(np.squeeze(action_probs))\n",
    "    #option 2\n",
    "#     action = tf.random.categorical(tf.math.log(action_probs), num_samples=1, dtype=tf.int32)[0,0]   \n",
    "#     action = action.numpy()\n",
    "    values.append(tf.squeeze(value))\n",
    "\n",
    "    state, reward, done, truncated, info = env.step(action)\n",
    "    state = tf.constant(state, dtype=tf.float32)\n",
    "\n",
    "    # Render screen every 10 steps\n",
    "    if i % 10 == 0:\n",
    "      screen = env.render()\n",
    "      images.append(Image.fromarray(screen))\n",
    "\n",
    "    if done:\n",
    "      break\n",
    "\n",
    "  return images, values\n",
    "\n",
    "\n",
    "# Save GIF image\n",
    "images,values = render_episode(render_env, model, max_steps_per_epoch)\n",
    "image_file = 'cartpole-v1.gif'\n",
    "# loop=0: loop forever, duration=1: play each frame for 1ms\n",
    "images[0].save(\n",
    "    image_file, save_all=True, append_images=images[1:], loop=0, duration=1)\n"
   ]
  },
  {
   "cell_type": "code",
   "execution_count": 19,
   "id": "2f2bf217",
   "metadata": {
    "ExecuteTime": {
     "end_time": "2023-03-23T03:40:07.280468Z",
     "start_time": "2023-03-23T03:40:07.181056Z"
    }
   },
   "outputs": [
    {
     "data": {
      "text/html": [
       "<img src=\"data:image/gif;base64,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\"/>"
      ],
      "text/plain": [
       "<IPython.core.display.HTML object>"
      ]
     },
     "execution_count": 19,
     "metadata": {},
     "output_type": "execute_result"
    }
   ],
   "source": [
    "import tensorflow_docs.vis.embed as embed\n",
    "embed.embed_file(image_file)"
   ]
  },
  {
   "cell_type": "code",
   "execution_count": 20,
   "id": "b2972fe0",
   "metadata": {
    "ExecuteTime": {
     "end_time": "2023-03-23T03:40:07.385614Z",
     "start_time": "2023-03-23T03:40:07.281809Z"
    }
   },
   "outputs": [
    {
     "data": {
      "text/plain": [
       "[<matplotlib.lines.Line2D at 0x7f8678766dd0>]"
      ]
     },
     "execution_count": 20,
     "metadata": {},
     "output_type": "execute_result"
    },
    {
     "data": {
      "image/png": "[encoded data removed]",
      "text/plain": [
       "<Figure size 640x480 with 1 Axes>"
      ]
     },
     "metadata": {},
     "output_type": "display_data"
    }
   ],
   "source": [
    "values = tf.stack(values)\n",
    "values = values.numpy()\n",
    "plt.plot(range(len(values)), values)"
   ]
  },
  {
   "cell_type": "code",
   "execution_count": null,
   "id": "dbc62dbf",
   "metadata": {},
   "outputs": [],
   "source": []
  },
  {
   "cell_type": "code",
   "execution_count": null,
   "id": "d5eff41c",
   "metadata": {},
   "outputs": [],
   "source": []
  }
 ],
 "metadata": {
  "kernelspec": {
   "display_name": "tf211",
   "language": "python",
   "name": "tf211"
  },
  "language_info": {
   "codemirror_mode": {
    "name": "ipython",
    "version": 3
   },
   "file_extension": ".py",
   "mimetype": "text/x-python",
   "name": "python",
   "nbconvert_exporter": "python",
   "pygments_lexer": "ipython3",
   "version": "3.10.9"
  },
  "toc": {
   "base_numbering": 1,
   "nav_menu": {},
   "number_sections": true,
   "sideBar": true,
   "skip_h1_title": false,
   "title_cell": "Table of Contents",
   "title_sidebar": "Contents",
   "toc_cell": false,
   "toc_position": {},
   "toc_section_display": true,
   "toc_window_display": false
  }
 },
 "nbformat": 4,
 "nbformat_minor": 5
}
