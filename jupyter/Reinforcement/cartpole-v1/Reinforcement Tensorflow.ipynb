{
 "cells": [
  {
   "cell_type": "markdown",
   "id": "34e81d07",
   "metadata": {
    "ExecuteTime": {
     "end_time": "2023-03-03T17:26:55.622615Z",
     "start_time": "2023-03-03T17:26:55.614847Z"
    }
   },
   "source": [
    "[reference](https://www.tensorflow.org/tutorials/reinforcement_learning/actor_critic)"
   ]
  },
  {
   "cell_type": "code",
   "execution_count": 1,
   "id": "7e60dc68",
   "metadata": {
    "ExecuteTime": {
     "end_time": "2023-03-08T03:43:00.958646Z",
     "start_time": "2023-03-08T03:42:59.780664Z"
    }
   },
   "outputs": [
    {
     "name": "stderr",
     "output_type": "stream",
     "text": [
      "2023-03-08 03:42:59.898145: I tensorflow/core/platform/cpu_feature_guard.cc:193] This TensorFlow binary is optimized with oneAPI Deep Neural Network Library (oneDNN) to use the following CPU instructions in performance-critical operations:  AVX2 FMA\n",
      "To enable them in other operations, rebuild TensorFlow with the appropriate compiler flags.\n",
      "2023-03-08 03:42:59.979038: W tensorflow/compiler/xla/stream_executor/platform/default/dso_loader.cc:64] Could not load dynamic library 'libcudart.so.11.0'; dlerror: libcudart.so.11.0: cannot open shared object file: No such file or directory\n",
      "2023-03-08 03:42:59.979054: I tensorflow/compiler/xla/stream_executor/cuda/cudart_stub.cc:29] Ignore above cudart dlerror if you do not have a GPU set up on your machine.\n",
      "2023-03-08 03:43:00.360047: W tensorflow/compiler/xla/stream_executor/platform/default/dso_loader.cc:64] Could not load dynamic library 'libnvinfer.so.7'; dlerror: libnvinfer.so.7: cannot open shared object file: No such file or directory\n",
      "2023-03-08 03:43:00.360085: W tensorflow/compiler/xla/stream_executor/platform/default/dso_loader.cc:64] Could not load dynamic library 'libnvinfer_plugin.so.7'; dlerror: libnvinfer_plugin.so.7: cannot open shared object file: No such file or directory\n",
      "2023-03-08 03:43:00.360089: W tensorflow/compiler/tf2tensorrt/utils/py_utils.cc:38] TF-TRT Warning: Cannot dlopen some TensorRT libraries. If you would like to use Nvidia GPU with TensorRT, please make sure the missing libraries mentioned above are installed properly.\n"
     ]
    }
   ],
   "source": [
    "import collections\n",
    "import gym\n",
    "import numpy as np\n",
    "import statistics\n",
    "import tensorflow as tf\n",
    "import tqdm\n",
    "\n",
    "from matplotlib import pyplot as plt\n",
    "from tensorflow.keras import layers\n",
    "from typing import Any, List, Sequence, Tuple\n",
    "\n",
    "\n",
    "# Create the environment\n",
    "env = gym.make(\"CartPole-v1\")\n",
    "\n",
    "# Set seed for experiment reproducibility\n",
    "seed = 42\n",
    "tf.random.set_seed(seed)\n",
    "np.random.seed(seed)\n",
    "\n",
    "# Small epsilon value for stabilizing division operations\n",
    "eps = np.finfo(np.float32).eps.item()"
   ]
  },
  {
   "cell_type": "markdown",
   "id": "ad46b8f3",
   "metadata": {},
   "source": [
    "# The model will output both action probabilities and critic value V"
   ]
  },
  {
   "cell_type": "markdown",
   "id": "55e81c0b",
   "metadata": {},
   "source": [
    "State:\n",
    "    </br>(1) cart position\n",
    "    </br>(2) cart-velocity\n",
    "    </br>(3) pole angle\n",
    "    </br>(4) pole velocity\n",
    "</br> Action:\n",
    "</br>(1) left - 0\n",
    "</br>(2) right - 1"
   ]
  },
  {
   "cell_type": "code",
   "execution_count": 2,
   "id": "35fb4933",
   "metadata": {
    "ExecuteTime": {
     "end_time": "2023-03-08T03:43:00.963132Z",
     "start_time": "2023-03-08T03:43:00.960220Z"
    }
   },
   "outputs": [],
   "source": [
    "class ActorCritic(tf.keras.Model):\n",
    "  \"\"\"Combined actor-critic network.\"\"\"\n",
    "\n",
    "  def __init__(\n",
    "      self, \n",
    "      num_actions: int, \n",
    "      num_hidden_units: int):\n",
    "    \"\"\"Initialize.\"\"\"\n",
    "    super().__init__()\n",
    "\n",
    "    self.common = layers.Dense(num_hidden_units, activation=\"relu\")\n",
    "    self.actor = layers.Dense(num_actions)\n",
    "    self.critic = layers.Dense(1)\n",
    "\n",
    "  def call(self, inputs: tf.Tensor) -> Tuple[tf.Tensor, tf.Tensor]:\n",
    "    \"\"\"\n",
    "    inputs: state\n",
    "    output: (1) action probabilities (2) value\n",
    "    \"\"\"\n",
    "    x = self.common(inputs)\n",
    "    return self.actor(x), self.critic(x)"
   ]
  },
  {
   "cell_type": "code",
   "execution_count": 3,
   "id": "8e2e2f20",
   "metadata": {
    "ExecuteTime": {
     "end_time": "2023-03-08T03:43:01.098630Z",
     "start_time": "2023-03-08T03:43:00.964023Z"
    }
   },
   "outputs": [
    {
     "name": "stderr",
     "output_type": "stream",
     "text": [
      "2023-03-08 03:43:01.077511: I tensorflow/compiler/xla/stream_executor/cuda/cuda_gpu_executor.cc:981] successful NUMA node read from SysFS had negative value (-1), but there must be at least one NUMA node, so returning NUMA node zero\n",
      "2023-03-08 03:43:01.077677: W tensorflow/compiler/xla/stream_executor/platform/default/dso_loader.cc:64] Could not load dynamic library 'libcudart.so.11.0'; dlerror: libcudart.so.11.0: cannot open shared object file: No such file or directory\n",
      "2023-03-08 03:43:01.077713: W tensorflow/compiler/xla/stream_executor/platform/default/dso_loader.cc:64] Could not load dynamic library 'libcublas.so.11'; dlerror: libcublas.so.11: cannot open shared object file: No such file or directory\n",
      "2023-03-08 03:43:01.077739: W tensorflow/compiler/xla/stream_executor/platform/default/dso_loader.cc:64] Could not load dynamic library 'libcublasLt.so.11'; dlerror: libcublasLt.so.11: cannot open shared object file: No such file or directory\n",
      "2023-03-08 03:43:01.077766: W tensorflow/compiler/xla/stream_executor/platform/default/dso_loader.cc:64] Could not load dynamic library 'libcufft.so.10'; dlerror: libcufft.so.10: cannot open shared object file: No such file or directory\n",
      "2023-03-08 03:43:01.077790: W tensorflow/compiler/xla/stream_executor/platform/default/dso_loader.cc:64] Could not load dynamic library 'libcurand.so.10'; dlerror: libcurand.so.10: cannot open shared object file: No such file or directory\n",
      "2023-03-08 03:43:01.077815: W tensorflow/compiler/xla/stream_executor/platform/default/dso_loader.cc:64] Could not load dynamic library 'libcusolver.so.11'; dlerror: libcusolver.so.11: cannot open shared object file: No such file or directory\n",
      "2023-03-08 03:43:01.077841: W tensorflow/compiler/xla/stream_executor/platform/default/dso_loader.cc:64] Could not load dynamic library 'libcusparse.so.11'; dlerror: libcusparse.so.11: cannot open shared object file: No such file or directory\n",
      "2023-03-08 03:43:01.077866: W tensorflow/compiler/xla/stream_executor/platform/default/dso_loader.cc:64] Could not load dynamic library 'libcudnn.so.8'; dlerror: libcudnn.so.8: cannot open shared object file: No such file or directory\n",
      "2023-03-08 03:43:01.077872: W tensorflow/core/common_runtime/gpu/gpu_device.cc:1934] Cannot dlopen some GPU libraries. Please make sure the missing libraries mentioned above are installed properly if you would like to use GPU. Follow the guide at https://www.tensorflow.org/install/gpu for how to download and setup the required libraries for your platform.\n",
      "Skipping registering GPU devices...\n",
      "2023-03-08 03:43:01.078118: I tensorflow/core/platform/cpu_feature_guard.cc:193] This TensorFlow binary is optimized with oneAPI Deep Neural Network Library (oneDNN) to use the following CPU instructions in performance-critical operations:  AVX2 FMA\n",
      "To enable them in other operations, rebuild TensorFlow with the appropriate compiler flags.\n"
     ]
    }
   ],
   "source": [
    "num_actions = env.action_space.n  # 2\n",
    "num_hidden_units = 128\n",
    "\n",
    "model = ActorCritic(num_actions, num_hidden_units)"
   ]
  },
  {
   "cell_type": "markdown",
   "id": "69add398",
   "metadata": {},
   "source": [
    "# Train the agent"
   ]
  },
  {
   "cell_type": "markdown",
   "id": "910b0703",
   "metadata": {},
   "source": [
    "To train the agent, you will follow these steps:\n",
    "\n",
    "</br>1.Run the agent on the environment to collect training data per episode.\n",
    "</br>2.Compute expected return at each time step.\n",
    "</br>3.Compute the loss for the combined Actor-Critic model.\n",
    "</br>4.Compute gradients and update network parameters.\n",
    "</br>5.Repeat 1-4 until either success criterion or max episodes has been reached.\n",
    "</br> play untile the end of the episode and then train it"
   ]
  },
  {
   "cell_type": "markdown",
   "id": "bf4f6483",
   "metadata": {},
   "source": [
    "## Collect Traing Data"
   ]
  },
  {
   "cell_type": "code",
   "execution_count": 4,
   "id": "e0be86f1",
   "metadata": {
    "ExecuteTime": {
     "end_time": "2023-03-08T03:43:01.102553Z",
     "start_time": "2023-03-08T03:43:01.099828Z"
    }
   },
   "outputs": [],
   "source": [
    "# Wrap Gym's `env.step` call as an operation in a TensorFlow function.\n",
    "# This would allow it to be included in a callable TensorFlow graph.\n",
    "\n",
    "def env_step(action: np.ndarray) -> Tuple[np.ndarray, np.ndarray, np.ndarray]:\n",
    "  \"\"\"Returns state, reward and done flag given an action.\"\"\"\n",
    "\n",
    "  state, reward, done, truncated, info = env.step(action)\n",
    "  return (state.astype(np.float32), \n",
    "          np.array(reward, np.int32), \n",
    "          np.array(done, np.int32))\n",
    "\n",
    "\n",
    "def tf_env_step(action: tf.Tensor) -> List[tf.Tensor]:\n",
    "  return tf.numpy_function(env_step, [action], \n",
    "                           [tf.float32, tf.int32, tf.int32])"
   ]
  },
  {
   "cell_type": "code",
   "execution_count": 5,
   "id": "c6fa38d9",
   "metadata": {
    "ExecuteTime": {
     "end_time": "2023-03-08T03:43:01.109483Z",
     "start_time": "2023-03-08T03:43:01.104001Z"
    }
   },
   "outputs": [],
   "source": [
    "def run_episode(\n",
    "    initial_state: tf.Tensor,  \n",
    "    model: tf.keras.Model, \n",
    "    max_steps: int) -> Tuple[tf.Tensor, tf.Tensor, tf.Tensor]:\n",
    "  \"\"\"Runs a single episode to collect training data.\"\"\"\n",
    "\n",
    "  action_probs = tf.TensorArray(dtype=tf.float32, size=0, dynamic_size=True)\n",
    "  values = tf.TensorArray(dtype=tf.float32, size=0, dynamic_size=True)\n",
    "  rewards = tf.TensorArray(dtype=tf.int32, size=0, dynamic_size=True)\n",
    "\n",
    "  initial_state_shape = initial_state.shape\n",
    "  state = initial_state\n",
    "\n",
    "  for t in tf.range(max_steps):\n",
    "    # Convert state into a batched tensor (batch size = 1)\n",
    "    state = tf.expand_dims(state, 0)\n",
    "\n",
    "    # Run the model and to get action probabilities and critic value\n",
    "    action_logits_t, value = model(state)\n",
    "\n",
    "    # Sample next action from the action probability distribution\n",
    "    action = tf.random.categorical(action_logits_t, 1)[0, 0]\n",
    "    action_probs_t = tf.nn.softmax(action_logits_t)\n",
    "\n",
    "    # Store critic values\n",
    "    values = values.write(t, tf.squeeze(value))\n",
    "\n",
    "    # Store log probability of the action chosen\n",
    "    action_probs = action_probs.write(t, action_probs_t[0, action])\n",
    "\n",
    "    # Apply action to the environment to get next state and reward\n",
    "    state, reward, done = tf_env_step(action)\n",
    "    state.set_shape(initial_state_shape)\n",
    "\n",
    "    # Store reward\n",
    "    rewards = rewards.write(t, reward)\n",
    "\n",
    "    if tf.cast(done, tf.bool):\n",
    "      break\n",
    "\n",
    "  action_probs = action_probs.stack()\n",
    "  values = values.stack()\n",
    "  rewards = rewards.stack()\n",
    "\n",
    "  return action_probs, values, rewards"
   ]
  },
  {
   "cell_type": "markdown",
   "id": "f5584466",
   "metadata": {},
   "source": [
    "## compute the expected returns"
   ]
  },
  {
   "cell_type": "code",
   "execution_count": 6,
   "id": "e21fb159",
   "metadata": {
    "ExecuteTime": {
     "end_time": "2023-03-08T03:43:01.116416Z",
     "start_time": "2023-03-08T03:43:01.110337Z"
    }
   },
   "outputs": [],
   "source": [
    "def get_expected_return(\n",
    "    rewards: tf.Tensor, \n",
    "    gamma: float, \n",
    "    standardize: bool = True) -> tf.Tensor:\n",
    "  \"\"\"Compute expected returns per timestep.\"\"\"\n",
    "\n",
    "  n = tf.shape(rewards)[0]\n",
    "  returns = tf.TensorArray(dtype=tf.float32, size=n)\n",
    "\n",
    "  # Start from the end of `rewards` and accumulate reward sums\n",
    "  # into the `returns` array\n",
    "  rewards = tf.cast(rewards[::-1], dtype=tf.float32)\n",
    "  discounted_sum = tf.constant(0.0)\n",
    "  discounted_sum_shape = discounted_sum.shape\n",
    "  for i in tf.range(n):\n",
    "    reward = rewards[i]\n",
    "    discounted_sum = reward + gamma * discounted_sum\n",
    "    discounted_sum.set_shape(discounted_sum_shape)\n",
    "    returns = returns.write(i, discounted_sum)\n",
    "  returns = returns.stack()[::-1]\n",
    "\n",
    "  if standardize:\n",
    "    returns = ((returns - tf.math.reduce_mean(returns)) / \n",
    "               (tf.math.reduce_std(returns) + eps))\n",
    "\n",
    "  return returns"
   ]
  },
  {
   "cell_type": "markdown",
   "id": "10e918b0",
   "metadata": {},
   "source": [
    "## Actor-Critic Loss"
   ]
  },
  {
   "cell_type": "markdown",
   "id": "5bb97beb",
   "metadata": {
    "ExecuteTime": {
     "end_time": "2023-03-06T15:38:35.212909Z",
     "start_time": "2023-03-06T15:38:35.196210Z"
    }
   },
   "source": [
    "L = L_actor + L_critic"
   ]
  },
  {
   "cell_type": "markdown",
   "id": "843220c6",
   "metadata": {},
   "source": [
    "### Actor Loss"
   ]
  },
  {
   "cell_type": "markdown",
   "id": "ec3d1933",
   "metadata": {},
   "source": [
    "[ref](https://www.tensorflow.org/tutorials/reinforcement_learning/actor_critic)"
   ]
  },
  {
   "cell_type": "markdown",
   "id": "7a6672cc",
   "metadata": {},
   "source": [
    "### Critic Loss"
   ]
  },
  {
   "cell_type": "markdown",
   "id": "85830ded",
   "metadata": {},
   "source": [
    "huber loss between G and V"
   ]
  },
  {
   "cell_type": "code",
   "execution_count": 7,
   "id": "35178c4e",
   "metadata": {
    "ExecuteTime": {
     "end_time": "2023-03-08T03:43:01.123268Z",
     "start_time": "2023-03-08T03:43:01.117276Z"
    }
   },
   "outputs": [],
   "source": [
    "huber_loss = tf.keras.losses.Huber(reduction=tf.keras.losses.Reduction.SUM)\n",
    "\n",
    "def compute_loss(\n",
    "    action_probs: tf.Tensor,  \n",
    "    values: tf.Tensor,  \n",
    "    returns: tf.Tensor) -> tf.Tensor:\n",
    "  \"\"\"Computes the combined Actor-Critic loss.\"\"\"\n",
    "\n",
    "  advantage = returns - values\n",
    "  # can also write as below  \n",
    "  #advantage = returns\n",
    "\n",
    "  action_log_probs = tf.math.log(action_probs)\n",
    "  actor_loss = -tf.math.reduce_sum(action_log_probs * advantage)\n",
    "\n",
    "  critic_loss = huber_loss(values, returns)\n",
    "\n",
    "  return actor_loss + critic_loss"
   ]
  },
  {
   "cell_type": "markdown",
   "id": "50b7c803",
   "metadata": {},
   "source": [
    "## Training Step"
   ]
  },
  {
   "cell_type": "code",
   "execution_count": 8,
   "id": "b5787e88",
   "metadata": {
    "ExecuteTime": {
     "end_time": "2023-03-08T03:43:01.129798Z",
     "start_time": "2023-03-08T03:43:01.124159Z"
    }
   },
   "outputs": [],
   "source": [
    "optimizer = tf.keras.optimizers.Adam(learning_rate=0.01)"
   ]
  },
  {
   "cell_type": "code",
   "execution_count": 9,
   "id": "6cd8a650",
   "metadata": {
    "ExecuteTime": {
     "end_time": "2023-03-08T03:43:01.138312Z",
     "start_time": "2023-03-08T03:43:01.130707Z"
    }
   },
   "outputs": [],
   "source": [
    "@tf.function\n",
    "def train_step(\n",
    "    initial_state: tf.Tensor, \n",
    "    model: tf.keras.Model, \n",
    "    optimizer: tf.keras.optimizers.Optimizer, \n",
    "    gamma: float, \n",
    "    max_steps_per_episode: int) -> tf.Tensor:\n",
    "  \"\"\"Runs a model training step.\"\"\"\n",
    "\n",
    "  with tf.GradientTape() as tape:\n",
    "\n",
    "    # Run the model for one episode to collect training data\n",
    "    action_probs, values, rewards = run_episode(\n",
    "        initial_state, model, max_steps_per_episode) \n",
    "\n",
    "    # Calculate the expected returns\n",
    "    returns = get_expected_return(rewards, gamma)\n",
    "\n",
    "    # Convert training data to appropriate TF tensor shapes\n",
    "    action_probs, values, returns = [\n",
    "        tf.expand_dims(x, 1) for x in [action_probs, values, returns]] \n",
    "\n",
    "    # Calculate the loss values to update our network\n",
    "    loss = compute_loss(action_probs, values, returns)\n",
    "\n",
    "  # Compute the gradients from the loss\n",
    "  grads = tape.gradient(loss, model.trainable_variables)\n",
    "\n",
    "  # Apply the gradients to the model's parameters\n",
    "  optimizer.apply_gradients(zip(grads, model.trainable_variables))\n",
    "\n",
    "  episode_reward = tf.math.reduce_sum(rewards)\n",
    "\n",
    "  return episode_reward"
   ]
  },
  {
   "cell_type": "markdown",
   "id": "7176ca3e",
   "metadata": {},
   "source": [
    "## Run"
   ]
  },
  {
   "cell_type": "code",
   "execution_count": 10,
   "id": "36f2e79a",
   "metadata": {
    "ExecuteTime": {
     "end_time": "2023-03-08T03:43:19.559441Z",
     "start_time": "2023-03-08T03:43:01.139171Z"
    }
   },
   "outputs": [
    {
     "name": "stderr",
     "output_type": "stream",
     "text": [
      "  0%|          | 0/10000 [00:00<?, ?it/s]/home/wei/anaconda3/envs/tf_211/lib/python3.10/site-packages/gym/utils/passive_env_checker.py:233: DeprecationWarning: `np.bool8` is a deprecated alias for `np.bool_`.  (Deprecated NumPy 1.24)\n",
      "  if not isinstance(terminated, (bool, np.bool8)):\n",
      "  2%|▏         | 238/10000 [00:17<12:13, 13.30it/s, episode_reward=500, running_reward=397] \n"
     ]
    },
    {
     "ename": "KeyboardInterrupt",
     "evalue": "",
     "output_type": "error",
     "traceback": [
      "\u001b[0;31m---------------------------------------------------------------------------\u001b[0m",
      "\u001b[0;31mKeyboardInterrupt\u001b[0m                         Traceback (most recent call last)",
      "File \u001b[0;32m<timed exec>:20\u001b[0m\n",
      "File \u001b[0;32m~/anaconda3/envs/tf_211/lib/python3.10/site-packages/tensorflow/python/util/traceback_utils.py:150\u001b[0m, in \u001b[0;36mfilter_traceback.<locals>.error_handler\u001b[0;34m(*args, **kwargs)\u001b[0m\n\u001b[1;32m    148\u001b[0m filtered_tb \u001b[38;5;241m=\u001b[39m \u001b[38;5;28;01mNone\u001b[39;00m\n\u001b[1;32m    149\u001b[0m \u001b[38;5;28;01mtry\u001b[39;00m:\n\u001b[0;32m--> 150\u001b[0m   \u001b[38;5;28;01mreturn\u001b[39;00m \u001b[43mfn\u001b[49m\u001b[43m(\u001b[49m\u001b[38;5;241;43m*\u001b[39;49m\u001b[43margs\u001b[49m\u001b[43m,\u001b[49m\u001b[43m \u001b[49m\u001b[38;5;241;43m*\u001b[39;49m\u001b[38;5;241;43m*\u001b[39;49m\u001b[43mkwargs\u001b[49m\u001b[43m)\u001b[49m\n\u001b[1;32m    151\u001b[0m \u001b[38;5;28;01mexcept\u001b[39;00m \u001b[38;5;167;01mException\u001b[39;00m \u001b[38;5;28;01mas\u001b[39;00m e:\n\u001b[1;32m    152\u001b[0m   filtered_tb \u001b[38;5;241m=\u001b[39m _process_traceback_frames(e\u001b[38;5;241m.\u001b[39m__traceback__)\n",
      "File \u001b[0;32m~/anaconda3/envs/tf_211/lib/python3.10/site-packages/tensorflow/python/eager/polymorphic_function/polymorphic_function.py:880\u001b[0m, in \u001b[0;36mFunction.__call__\u001b[0;34m(self, *args, **kwds)\u001b[0m\n\u001b[1;32m    877\u001b[0m compiler \u001b[38;5;241m=\u001b[39m \u001b[38;5;124m\"\u001b[39m\u001b[38;5;124mxla\u001b[39m\u001b[38;5;124m\"\u001b[39m \u001b[38;5;28;01mif\u001b[39;00m \u001b[38;5;28mself\u001b[39m\u001b[38;5;241m.\u001b[39m_jit_compile \u001b[38;5;28;01melse\u001b[39;00m \u001b[38;5;124m\"\u001b[39m\u001b[38;5;124mnonXla\u001b[39m\u001b[38;5;124m\"\u001b[39m\n\u001b[1;32m    879\u001b[0m \u001b[38;5;28;01mwith\u001b[39;00m OptionalXlaContext(\u001b[38;5;28mself\u001b[39m\u001b[38;5;241m.\u001b[39m_jit_compile):\n\u001b[0;32m--> 880\u001b[0m   result \u001b[38;5;241m=\u001b[39m \u001b[38;5;28;43mself\u001b[39;49m\u001b[38;5;241;43m.\u001b[39;49m\u001b[43m_call\u001b[49m\u001b[43m(\u001b[49m\u001b[38;5;241;43m*\u001b[39;49m\u001b[43margs\u001b[49m\u001b[43m,\u001b[49m\u001b[43m \u001b[49m\u001b[38;5;241;43m*\u001b[39;49m\u001b[38;5;241;43m*\u001b[39;49m\u001b[43mkwds\u001b[49m\u001b[43m)\u001b[49m\n\u001b[1;32m    882\u001b[0m new_tracing_count \u001b[38;5;241m=\u001b[39m \u001b[38;5;28mself\u001b[39m\u001b[38;5;241m.\u001b[39mexperimental_get_tracing_count()\n\u001b[1;32m    883\u001b[0m without_tracing \u001b[38;5;241m=\u001b[39m (tracing_count \u001b[38;5;241m==\u001b[39m new_tracing_count)\n",
      "File \u001b[0;32m~/anaconda3/envs/tf_211/lib/python3.10/site-packages/tensorflow/python/eager/polymorphic_function/polymorphic_function.py:912\u001b[0m, in \u001b[0;36mFunction._call\u001b[0;34m(self, *args, **kwds)\u001b[0m\n\u001b[1;32m    909\u001b[0m   \u001b[38;5;28mself\u001b[39m\u001b[38;5;241m.\u001b[39m_lock\u001b[38;5;241m.\u001b[39mrelease()\n\u001b[1;32m    910\u001b[0m   \u001b[38;5;66;03m# In this case we have created variables on the first call, so we run the\u001b[39;00m\n\u001b[1;32m    911\u001b[0m   \u001b[38;5;66;03m# defunned version which is guaranteed to never create variables.\u001b[39;00m\n\u001b[0;32m--> 912\u001b[0m   \u001b[38;5;28;01mreturn\u001b[39;00m \u001b[38;5;28;43mself\u001b[39;49m\u001b[38;5;241;43m.\u001b[39;49m\u001b[43m_no_variable_creation_fn\u001b[49m\u001b[43m(\u001b[49m\u001b[38;5;241;43m*\u001b[39;49m\u001b[43margs\u001b[49m\u001b[43m,\u001b[49m\u001b[43m \u001b[49m\u001b[38;5;241;43m*\u001b[39;49m\u001b[38;5;241;43m*\u001b[39;49m\u001b[43mkwds\u001b[49m\u001b[43m)\u001b[49m  \u001b[38;5;66;03m# pylint: disable=not-callable\u001b[39;00m\n\u001b[1;32m    913\u001b[0m \u001b[38;5;28;01melif\u001b[39;00m \u001b[38;5;28mself\u001b[39m\u001b[38;5;241m.\u001b[39m_variable_creation_fn \u001b[38;5;129;01mis\u001b[39;00m \u001b[38;5;129;01mnot\u001b[39;00m \u001b[38;5;28;01mNone\u001b[39;00m:\n\u001b[1;32m    914\u001b[0m   \u001b[38;5;66;03m# Release the lock early so that multiple threads can perform the call\u001b[39;00m\n\u001b[1;32m    915\u001b[0m   \u001b[38;5;66;03m# in parallel.\u001b[39;00m\n\u001b[1;32m    916\u001b[0m   \u001b[38;5;28mself\u001b[39m\u001b[38;5;241m.\u001b[39m_lock\u001b[38;5;241m.\u001b[39mrelease()\n",
      "File \u001b[0;32m~/anaconda3/envs/tf_211/lib/python3.10/site-packages/tensorflow/python/eager/polymorphic_function/tracing_compiler.py:134\u001b[0m, in \u001b[0;36mTracingCompiler.__call__\u001b[0;34m(self, *args, **kwargs)\u001b[0m\n\u001b[1;32m    131\u001b[0m \u001b[38;5;28;01mwith\u001b[39;00m \u001b[38;5;28mself\u001b[39m\u001b[38;5;241m.\u001b[39m_lock:\n\u001b[1;32m    132\u001b[0m   (concrete_function,\n\u001b[1;32m    133\u001b[0m    filtered_flat_args) \u001b[38;5;241m=\u001b[39m \u001b[38;5;28mself\u001b[39m\u001b[38;5;241m.\u001b[39m_maybe_define_function(args, kwargs)\n\u001b[0;32m--> 134\u001b[0m \u001b[38;5;28;01mreturn\u001b[39;00m \u001b[43mconcrete_function\u001b[49m\u001b[38;5;241;43m.\u001b[39;49m\u001b[43m_call_flat\u001b[49m\u001b[43m(\u001b[49m\n\u001b[1;32m    135\u001b[0m \u001b[43m    \u001b[49m\u001b[43mfiltered_flat_args\u001b[49m\u001b[43m,\u001b[49m\u001b[43m \u001b[49m\u001b[43mcaptured_inputs\u001b[49m\u001b[38;5;241;43m=\u001b[39;49m\u001b[43mconcrete_function\u001b[49m\u001b[38;5;241;43m.\u001b[39;49m\u001b[43mcaptured_inputs\u001b[49m\u001b[43m)\u001b[49m\n",
      "File \u001b[0;32m~/anaconda3/envs/tf_211/lib/python3.10/site-packages/tensorflow/python/eager/polymorphic_function/monomorphic_function.py:1745\u001b[0m, in \u001b[0;36mConcreteFunction._call_flat\u001b[0;34m(self, args, captured_inputs, cancellation_manager)\u001b[0m\n\u001b[1;32m   1741\u001b[0m possible_gradient_type \u001b[38;5;241m=\u001b[39m gradients_util\u001b[38;5;241m.\u001b[39mPossibleTapeGradientTypes(args)\n\u001b[1;32m   1742\u001b[0m \u001b[38;5;28;01mif\u001b[39;00m (possible_gradient_type \u001b[38;5;241m==\u001b[39m gradients_util\u001b[38;5;241m.\u001b[39mPOSSIBLE_GRADIENT_TYPES_NONE\n\u001b[1;32m   1743\u001b[0m     \u001b[38;5;129;01mand\u001b[39;00m executing_eagerly):\n\u001b[1;32m   1744\u001b[0m   \u001b[38;5;66;03m# No tape is watching; skip to running the function.\u001b[39;00m\n\u001b[0;32m-> 1745\u001b[0m   \u001b[38;5;28;01mreturn\u001b[39;00m \u001b[38;5;28mself\u001b[39m\u001b[38;5;241m.\u001b[39m_build_call_outputs(\u001b[38;5;28;43mself\u001b[39;49m\u001b[38;5;241;43m.\u001b[39;49m\u001b[43m_inference_function\u001b[49m\u001b[38;5;241;43m.\u001b[39;49m\u001b[43mcall\u001b[49m\u001b[43m(\u001b[49m\n\u001b[1;32m   1746\u001b[0m \u001b[43m      \u001b[49m\u001b[43mctx\u001b[49m\u001b[43m,\u001b[49m\u001b[43m \u001b[49m\u001b[43margs\u001b[49m\u001b[43m,\u001b[49m\u001b[43m \u001b[49m\u001b[43mcancellation_manager\u001b[49m\u001b[38;5;241;43m=\u001b[39;49m\u001b[43mcancellation_manager\u001b[49m\u001b[43m)\u001b[49m)\n\u001b[1;32m   1747\u001b[0m forward_backward \u001b[38;5;241m=\u001b[39m \u001b[38;5;28mself\u001b[39m\u001b[38;5;241m.\u001b[39m_select_forward_and_backward_functions(\n\u001b[1;32m   1748\u001b[0m     args,\n\u001b[1;32m   1749\u001b[0m     possible_gradient_type,\n\u001b[1;32m   1750\u001b[0m     executing_eagerly)\n\u001b[1;32m   1751\u001b[0m forward_function, args_with_tangents \u001b[38;5;241m=\u001b[39m forward_backward\u001b[38;5;241m.\u001b[39mforward()\n",
      "File \u001b[0;32m~/anaconda3/envs/tf_211/lib/python3.10/site-packages/tensorflow/python/eager/polymorphic_function/monomorphic_function.py:378\u001b[0m, in \u001b[0;36m_EagerDefinedFunction.call\u001b[0;34m(self, ctx, args, cancellation_manager)\u001b[0m\n\u001b[1;32m    376\u001b[0m \u001b[38;5;28;01mwith\u001b[39;00m _InterpolateFunctionError(\u001b[38;5;28mself\u001b[39m):\n\u001b[1;32m    377\u001b[0m   \u001b[38;5;28;01mif\u001b[39;00m cancellation_manager \u001b[38;5;129;01mis\u001b[39;00m \u001b[38;5;28;01mNone\u001b[39;00m:\n\u001b[0;32m--> 378\u001b[0m     outputs \u001b[38;5;241m=\u001b[39m \u001b[43mexecute\u001b[49m\u001b[38;5;241;43m.\u001b[39;49m\u001b[43mexecute\u001b[49m\u001b[43m(\u001b[49m\n\u001b[1;32m    379\u001b[0m \u001b[43m        \u001b[49m\u001b[38;5;28;43mstr\u001b[39;49m\u001b[43m(\u001b[49m\u001b[38;5;28;43mself\u001b[39;49m\u001b[38;5;241;43m.\u001b[39;49m\u001b[43msignature\u001b[49m\u001b[38;5;241;43m.\u001b[39;49m\u001b[43mname\u001b[49m\u001b[43m)\u001b[49m\u001b[43m,\u001b[49m\n\u001b[1;32m    380\u001b[0m \u001b[43m        \u001b[49m\u001b[43mnum_outputs\u001b[49m\u001b[38;5;241;43m=\u001b[39;49m\u001b[38;5;28;43mself\u001b[39;49m\u001b[38;5;241;43m.\u001b[39;49m\u001b[43m_num_outputs\u001b[49m\u001b[43m,\u001b[49m\n\u001b[1;32m    381\u001b[0m \u001b[43m        \u001b[49m\u001b[43minputs\u001b[49m\u001b[38;5;241;43m=\u001b[39;49m\u001b[43margs\u001b[49m\u001b[43m,\u001b[49m\n\u001b[1;32m    382\u001b[0m \u001b[43m        \u001b[49m\u001b[43mattrs\u001b[49m\u001b[38;5;241;43m=\u001b[39;49m\u001b[43mattrs\u001b[49m\u001b[43m,\u001b[49m\n\u001b[1;32m    383\u001b[0m \u001b[43m        \u001b[49m\u001b[43mctx\u001b[49m\u001b[38;5;241;43m=\u001b[39;49m\u001b[43mctx\u001b[49m\u001b[43m)\u001b[49m\n\u001b[1;32m    384\u001b[0m   \u001b[38;5;28;01melse\u001b[39;00m:\n\u001b[1;32m    385\u001b[0m     outputs \u001b[38;5;241m=\u001b[39m execute\u001b[38;5;241m.\u001b[39mexecute_with_cancellation(\n\u001b[1;32m    386\u001b[0m         \u001b[38;5;28mstr\u001b[39m(\u001b[38;5;28mself\u001b[39m\u001b[38;5;241m.\u001b[39msignature\u001b[38;5;241m.\u001b[39mname),\n\u001b[1;32m    387\u001b[0m         num_outputs\u001b[38;5;241m=\u001b[39m\u001b[38;5;28mself\u001b[39m\u001b[38;5;241m.\u001b[39m_num_outputs,\n\u001b[0;32m   (...)\u001b[0m\n\u001b[1;32m    390\u001b[0m         ctx\u001b[38;5;241m=\u001b[39mctx,\n\u001b[1;32m    391\u001b[0m         cancellation_manager\u001b[38;5;241m=\u001b[39mcancellation_manager)\n",
      "File \u001b[0;32m~/anaconda3/envs/tf_211/lib/python3.10/site-packages/tensorflow/python/eager/execute.py:52\u001b[0m, in \u001b[0;36mquick_execute\u001b[0;34m(op_name, num_outputs, inputs, attrs, ctx, name)\u001b[0m\n\u001b[1;32m     50\u001b[0m \u001b[38;5;28;01mtry\u001b[39;00m:\n\u001b[1;32m     51\u001b[0m   ctx\u001b[38;5;241m.\u001b[39mensure_initialized()\n\u001b[0;32m---> 52\u001b[0m   tensors \u001b[38;5;241m=\u001b[39m \u001b[43mpywrap_tfe\u001b[49m\u001b[38;5;241;43m.\u001b[39;49m\u001b[43mTFE_Py_Execute\u001b[49m\u001b[43m(\u001b[49m\u001b[43mctx\u001b[49m\u001b[38;5;241;43m.\u001b[39;49m\u001b[43m_handle\u001b[49m\u001b[43m,\u001b[49m\u001b[43m \u001b[49m\u001b[43mdevice_name\u001b[49m\u001b[43m,\u001b[49m\u001b[43m \u001b[49m\u001b[43mop_name\u001b[49m\u001b[43m,\u001b[49m\n\u001b[1;32m     53\u001b[0m \u001b[43m                                      \u001b[49m\u001b[43minputs\u001b[49m\u001b[43m,\u001b[49m\u001b[43m \u001b[49m\u001b[43mattrs\u001b[49m\u001b[43m,\u001b[49m\u001b[43m \u001b[49m\u001b[43mnum_outputs\u001b[49m\u001b[43m)\u001b[49m\n\u001b[1;32m     54\u001b[0m \u001b[38;5;28;01mexcept\u001b[39;00m core\u001b[38;5;241m.\u001b[39m_NotOkStatusException \u001b[38;5;28;01mas\u001b[39;00m e:\n\u001b[1;32m     55\u001b[0m   \u001b[38;5;28;01mif\u001b[39;00m name \u001b[38;5;129;01mis\u001b[39;00m \u001b[38;5;129;01mnot\u001b[39;00m \u001b[38;5;28;01mNone\u001b[39;00m:\n",
      "\u001b[0;31mKeyboardInterrupt\u001b[0m: "
     ]
    }
   ],
   "source": [
    "%%time\n",
    "\n",
    "min_episodes_criterion = 100\n",
    "max_episodes = 10000\n",
    "max_steps_per_episode = 500\n",
    "\n",
    "# `CartPole-v1` is considered solved if average reward is >= 475 over 500 \n",
    "# consecutive trials\n",
    "reward_threshold = 475\n",
    "running_reward = 0\n",
    "\n",
    "# The discount factor for future rewards\n",
    "gamma = 0.99\n",
    "\n",
    "# Keep the last episodes reward\n",
    "episodes_reward: collections.deque = collections.deque(maxlen=min_episodes_criterion)\n",
    "\n",
    "t = tqdm.trange(max_episodes)\n",
    "for i in t:\n",
    "    initial_state, info = env.reset()\n",
    "    initial_state = tf.constant(initial_state, dtype=tf.float32)\n",
    "    episode_reward = int(train_step(\n",
    "        initial_state, model, optimizer, gamma, max_steps_per_episode))\n",
    "\n",
    "    episodes_reward.append(episode_reward)\n",
    "    running_reward = statistics.mean(episodes_reward)\n",
    "\n",
    "\n",
    "    t.set_postfix(\n",
    "        episode_reward=episode_reward, running_reward=running_reward)\n",
    "\n",
    "    # Show the average episode reward every 10 episodes\n",
    "    if i % 10 == 0:\n",
    "      pass # print(f'Episode {i}: average reward: {avg_reward}')\n",
    "\n",
    "    if running_reward > reward_threshold and i >= min_episodes_criterion:  \n",
    "        break\n",
    "\n",
    "print(f'\\nSolved at episode {i}: average reward: {running_reward:.2f}!')\n"
   ]
  },
  {
   "cell_type": "markdown",
   "id": "a7860cab",
   "metadata": {},
   "source": [
    "# visualization"
   ]
  },
  {
   "cell_type": "code",
   "execution_count": 11,
   "id": "f385a5fb",
   "metadata": {
    "ExecuteTime": {
     "end_time": "2023-03-08T03:43:20.812053Z",
     "start_time": "2023-03-08T03:43:19.560812Z"
    }
   },
   "outputs": [],
   "source": [
    "# Render an episode and save as a GIF file\n",
    "\n",
    "from IPython import display as ipythondisplay\n",
    "from PIL import Image\n",
    "\n",
    "render_env = gym.make(\"CartPole-v1\", render_mode='rgb_array')\n",
    "\n",
    "def render_episode(env: gym.Env, model: tf.keras.Model, max_steps: int): \n",
    "  state, info = env.reset()\n",
    "  state = tf.constant(state, dtype=tf.float32)\n",
    "  screen = env.render()\n",
    "  images = [Image.fromarray(screen)]\n",
    "\n",
    "  for i in range(1, max_steps + 1):\n",
    "    state = tf.expand_dims(state, 0)\n",
    "    action_probs, _ = model(state)\n",
    "    action = np.argmax(np.squeeze(action_probs))\n",
    "\n",
    "    state, reward, done, truncated, info = env.step(action)\n",
    "    state = tf.constant(state, dtype=tf.float32)\n",
    "\n",
    "    # Render screen every 10 steps\n",
    "    if i % 10 == 0:\n",
    "      screen = env.render()\n",
    "      images.append(Image.fromarray(screen))\n",
    "\n",
    "    if done:\n",
    "      break\n",
    "\n",
    "  return images\n",
    "\n",
    "\n",
    "# Save GIF image\n",
    "images = render_episode(render_env, model, max_steps_per_episode)\n",
    "image_file = 'cartpole-v1.gif'\n",
    "# loop=0: loop forever, duration=1: play each frame for 1ms\n",
    "images[0].save(\n",
    "    image_file, save_all=True, append_images=images[1:], loop=0, duration=1)\n"
   ]
  },
  {
   "cell_type": "code",
   "execution_count": 12,
   "id": "fc8fe8e6",
   "metadata": {
    "ExecuteTime": {
     "end_time": "2023-03-08T03:43:20.820524Z",
     "start_time": "2023-03-08T03:43:20.813227Z"
    }
   },
   "outputs": [
    {
     "data": {
      "text/html": [
       "<img src=\"data:image/gif;base64,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\"/>"
      ],
      "text/plain": [
       "<IPython.core.display.HTML object>"
      ]
     },
     "execution_count": 12,
     "metadata": {},
     "output_type": "execute_result"
    }
   ],
   "source": [
    "import tensorflow_docs.vis.embed as embed\n",
    "embed.embed_file(image_file)"
   ]
  }
 ],
 "metadata": {
  "kernelspec": {
   "display_name": "tf211",
   "language": "python",
   "name": "tf211"
  },
  "language_info": {
   "codemirror_mode": {
    "name": "ipython",
    "version": 3
   },
   "file_extension": ".py",
   "mimetype": "text/x-python",
   "name": "python",
   "nbconvert_exporter": "python",
   "pygments_lexer": "ipython3",
   "version": "3.10.9"
  },
  "toc": {
   "base_numbering": 1,
   "nav_menu": {},
   "number_sections": true,
   "sideBar": true,
   "skip_h1_title": false,
   "title_cell": "Table of Contents",
   "title_sidebar": "Contents",
   "toc_cell": false,
   "toc_position": {},
   "toc_section_display": true,
   "toc_window_display": false
  }
 },
 "nbformat": 4,
 "nbformat_minor": 5
}
